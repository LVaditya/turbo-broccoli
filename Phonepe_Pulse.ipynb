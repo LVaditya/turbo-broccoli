{
  "cells": [
    {
      "cell_type": "markdown",
      "metadata": {
        "id": "view-in-github",
        "colab_type": "text"
      },
      "source": [
        "<a href=\"https://colab.research.google.com/github/LVaditya/turbo-broccoli/blob/main/Phonepe_Pulse.ipynb\" target=\"_parent\"><img src=\"https://colab.research.google.com/assets/colab-badge.svg\" alt=\"Open In Colab\"/></a>"
      ]
    },
    {
      "cell_type": "code",
      "execution_count": 1,
      "metadata": {
        "colab": {
          "base_uri": "https://localhost:8080/"
        },
        "id": "1OahfLVpNDdm",
        "outputId": "16570f13-c6cd-4c0b-d19c-9248a060a954"
      },
      "outputs": [
        {
          "output_type": "stream",
          "name": "stdout",
          "text": [
            "Cloning into 'pulse'...\n",
            "remote: Enumerating objects: 7975, done.\u001b[K\n",
            "remote: Counting objects: 100% (7975/7975), done.\u001b[K\n",
            "remote: Compressing objects: 100% (6637/6637), done.\u001b[K\n",
            "remote: Total 7975 (delta 2465), reused 6527 (delta 1031), pack-reused 0\u001b[K\n",
            "Receiving objects: 100% (7975/7975), 2.11 MiB | 11.74 MiB/s, done.\n",
            "Resolving deltas: 100% (2465/2465), done.\n"
          ]
        }
      ],
      "source": [
        "!git clone https://github.com/PhonePe/pulse.git"
      ]
    },
    {
      "cell_type": "code",
      "execution_count": 2,
      "metadata": {
        "id": "vwCpno1G9-yz"
      },
      "outputs": [],
      "source": [
        "import os,json\n",
        "import pandas as pd\n",
        "import glob"
      ]
    },
    {
      "cell_type": "code",
      "execution_count": 3,
      "metadata": {
        "id": "wIoP7eWAIWVR"
      },
      "outputs": [],
      "source": [
        "path0='/content/pulse/data/aggregated/transaction/country/india/state/'\n",
        "\n",
        "aggstate_list= os.listdir(path0)"
      ]
    },
    {
      "cell_type": "code",
      "execution_count": 4,
      "metadata": {
        "id": "XyVCxpV9QgTQ"
      },
      "outputs": [],
      "source": [
        "clm={'State':[], 'Year':[], 'Quarter':[], 'Transaction_type':[], 'Transaction_count':[], 'Transaction_amount':[]}\n",
        "for i in aggstate_list:\n",
        "  p_i=path0+i+\"/\"\n",
        "  agg_yr=os.listdir(p_i)\n",
        "  for j in agg_yr:\n",
        "    p_j=p_i+j+\"/\"\n",
        "    Agg_yr_list=os.listdir(p_j) \n",
        "    for k in Agg_yr_list:\n",
        "      p_k=p_j+k\n",
        "      Data=open(p_k,'r')\n",
        "      D=json.load(Data)\n",
        "      for z in D['data']['transactionData']:\n",
        "        Name=z['name']\n",
        "        Count=z['paymentInstruments'][0]['count']\n",
        "        amount=z['paymentInstruments'][0]['amount']\n",
        "        clm['Transaction_type'].append(Name)\n",
        "        clm['Transaction_count'].append(Count)\n",
        "        clm['Transaction_amount'].append(amount)\n",
        "        clm['State'].append(i)\n",
        "        clm['Year'].append(j)\n",
        "        clm['Quarter'].append(int(k.strip('.json')))\n",
        "\n",
        "df_data_transaction=pd.DataFrame(clm)\n",
        "\n"
      ]
    },
    {
      "cell_type": "code",
      "execution_count": 5,
      "metadata": {
        "id": "FX3r9qMEjCxZ"
      },
      "outputs": [],
      "source": [
        "path1='/content/pulse/data/aggregated/user/country/india/state/'\n",
        "aggstate_list=os.listdir(path1)"
      ]
    },
    {
      "cell_type": "code",
      "execution_count": 6,
      "metadata": {
        "id": "mV3BxFQ4napU"
      },
      "outputs": [],
      "source": [
        "clm1={'State':[], 'Year':[], 'Quarter':[], 'Brand':[], 'Count':[], 'Percent':[]}\n",
        "for i in aggstate_list:\n",
        "  p_i=path1+i+\"/\"\n",
        "  agg_yr=os.listdir(p_i)\n",
        "  for j in agg_yr:\n",
        "    p_j=p_i+j+\"/\"\n",
        "    agg_yr_list=os.listdir(p_j)\n",
        "    for k in agg_yr_list:\n",
        "      p_k=p_j+k\n",
        "      Data=open(p_k,'r')\n",
        "      D=json.load(Data)\n",
        "      if D['data']['usersByDevice']:\n",
        "        for z in D['data']['usersByDevice']:\n",
        "          brand=z['brand']\n",
        "          count=z['count']\n",
        "          percent=z['percentage']\n",
        "          clm1['Brand'].append(brand)\n",
        "          clm1['Count'].append(count)\n",
        "          clm1['Percent'].append(percent)\n",
        "          clm1['State'].append(i)\n",
        "          clm1['Year'].append(j)\n",
        "          clm1['Quarter'].append(int(k.strip('.json')))\n",
        "\n",
        "df_data_users=pd.DataFrame(clm1)"
      ]
    },
    {
      "cell_type": "code",
      "execution_count": 7,
      "metadata": {
        "id": "Ko7NCavtfeUr"
      },
      "outputs": [],
      "source": [
        "path2='/content/pulse/data/map/transaction/hover/country/india/state/'\n",
        "aggstate_list=os.listdir(path2)"
      ]
    },
    {
      "cell_type": "code",
      "execution_count": 8,
      "metadata": {
        "id": "q855OtVRgFhL"
      },
      "outputs": [],
      "source": [
        "clm2={'State':[], 'Year':[], 'Quarter':[], 'District':[], 'Transaction_count':[], 'Transaction_amount':[]}\n",
        "for i in aggstate_list:\n",
        "  p_i=path2+i+\"/\"\n",
        "  agg_yr=os.listdir(p_i)\n",
        "  for j in agg_yr:\n",
        "    p_j=p_i+j+\"/\"\n",
        "    Agg_yr_list=os.listdir(p_j) \n",
        "    for k in Agg_yr_list:\n",
        "      p_k=p_j+k\n",
        "      Data=open(p_k,'r')\n",
        "      D=json.load(Data)\n",
        "      for z in D['data']['hoverDataList']:\n",
        "        Name=z['name']\n",
        "        Count=z['metric'][0]['count']\n",
        "        amount=z['metric'][0]['amount']\n",
        "        clm2['District'].append(Name)\n",
        "        clm2['Transaction_count'].append(Count)\n",
        "        clm2['Transaction_amount'].append(amount)\n",
        "        clm2['State'].append(i)\n",
        "        clm2['Year'].append(j)\n",
        "        clm2['Quarter'].append(int(k.strip('.json')))\n",
        "\n",
        "df_map_transaction= pd.DataFrame(clm2)\n"
      ]
    },
    {
      "cell_type": "code",
      "execution_count": 9,
      "metadata": {
        "id": "b-BgkcoLr8Rt"
      },
      "outputs": [],
      "source": [
        "path3='/content/pulse/data/map/user/hover/country/india/state/'\n",
        "aggstate_list=os.listdir(path3)"
      ]
    },
    {
      "cell_type": "code",
      "execution_count": 10,
      "metadata": {
        "id": "Ip-S0_Gfsjrl"
      },
      "outputs": [],
      "source": [
        "clm3={'State':[], 'Year':[], 'Quarter':[], 'District':[], 'RegisteredUsers':[], 'AppOpen':[]}\n",
        "for i in aggstate_list:\n",
        "  p_i=path3+i+\"/\"\n",
        "  agg_yr=os.listdir(p_i)\n",
        "  for j in agg_yr:\n",
        "    p_j=p_i+j+\"/\"\n",
        "    agg_yr_list=os.listdir(p_j)\n",
        "    for k in agg_yr_list:\n",
        "      p_k=p_j+k\n",
        "      Data=open(p_k,'r')\n",
        "      D=json.load(Data)\n",
        "      for z in D['data']['hoverData']:\n",
        "        \n",
        "        clm3['District'].append(z)\n",
        "        clm3['State'].append(i)\n",
        "        clm3['Year'].append(j)\n",
        "        clm3['Quarter'].append(int(k.strip('.json')))\n",
        "        reg_users=D['data']['hoverData'][z]['registeredUsers']\n",
        "        app_open=D['data']['hoverData'][z]['appOpens']\n",
        "        clm3['RegisteredUsers'].append(reg_users)\n",
        "        clm3['AppOpen'].append(app_open)\n",
        "\n",
        "df_map_users= pd.DataFrame(clm3)\n",
        "        \n",
        "      "
      ]
    },
    {
      "cell_type": "code",
      "execution_count": 11,
      "metadata": {
        "id": "0yeGj_uLuVpD"
      },
      "outputs": [],
      "source": [
        "path4='/content/pulse/data/top/transaction/country/india/state/'\n",
        "\n",
        "aggstate_list= os.listdir(path4)"
      ]
    },
    {
      "cell_type": "code",
      "execution_count": 12,
      "metadata": {
        "id": "1hJ194nH8xjs"
      },
      "outputs": [],
      "source": [
        "clm4={'State':[], 'Year':[], 'Quarter':[], 'Entity':[], 'Transaction_count':[], 'Transaction_amount':[]}\n",
        "for i in aggstate_list:\n",
        "  p_i=path4+i+\"/\"\n",
        "  agg_yr=os.listdir(p_i)\n",
        "  for j in agg_yr:\n",
        "    p_j=p_i+j+\"/\"\n",
        "    Agg_yr_list=os.listdir(p_j) \n",
        "    for k in Agg_yr_list:\n",
        "      p_k=p_j+k\n",
        "      Data=open(p_k,'r')\n",
        "      D=json.load(Data)\n",
        "      for z in D['data']:\n",
        "        if z=='districts' or z=='pincodes':\n",
        "\n",
        "          entity=D['data'][z][0]['entityName']\n",
        "          count=D['data'][z][0]['metric']['count']\n",
        "          amount=D['data'][z][0]['metric']['amount']\n",
        "          \n",
        "          clm4['Transaction_count'].append(Count)\n",
        "          clm4['Transaction_amount'].append(amount)\n",
        "          clm4['Entity'].append(entity)\n",
        "          clm4['State'].append(i)\n",
        "          clm4['Year'].append(j)\n",
        "          clm4['Quarter'].append(int(k.strip('.json')))\n",
        "\n",
        "df_top_transaction=pd.DataFrame(clm4)\n"
      ]
    },
    {
      "cell_type": "code",
      "execution_count": 13,
      "metadata": {
        "id": "-JtejwIorxPW"
      },
      "outputs": [],
      "source": [
        "path5='/content/pulse/data/top/user/country/india/state/'\n",
        "\n",
        "aggstate_list= os.listdir(path5)"
      ]
    },
    {
      "cell_type": "code",
      "execution_count": 14,
      "metadata": {
        "id": "R9QrPPZJr1mL"
      },
      "outputs": [],
      "source": [
        "clm5={'State':[], 'Year':[], 'Quarter':[], 'Entity':[], 'Registered_Users':[]}\n",
        "for i in aggstate_list:\n",
        "  p_i=path5+i+\"/\"\n",
        "  agg_yr=os.listdir(p_i)\n",
        "  for j in agg_yr:\n",
        "    p_j=p_i+j+\"/\"\n",
        "    Agg_yr_list=os.listdir(p_j) \n",
        "    for k in Agg_yr_list:\n",
        "      p_k=p_j+k\n",
        "      Data=open(p_k,'r')\n",
        "      D=json.load(Data)\n",
        "      for z in D['data']:\n",
        "        if z=='districts' or z=='pincodes':\n",
        "\n",
        "          entity=D['data'][z][0]['name']\n",
        "          user=D['data'][z][0]['registeredUsers']\n",
        "                    \n",
        "          clm5['Registered_Users'].append(user)\n",
        "          clm5['Entity'].append(entity)\n",
        "          clm5['State'].append(i)\n",
        "          clm5['Year'].append(j)\n",
        "          clm5['Quarter'].append(int(k.strip('.json')))\n",
        "\n",
        "df_top_users=pd.DataFrame(clm5)"
      ]
    },
    {
      "cell_type": "code",
      "execution_count": 15,
      "metadata": {
        "id": "e9R61Q7u7Iy_"
      },
      "outputs": [],
      "source": [
        "import sqlite3\n",
        "import pandas as pd\n"
      ]
    },
    {
      "cell_type": "code",
      "execution_count": 16,
      "metadata": {
        "id": "d2VpUNxTF55L"
      },
      "outputs": [],
      "source": [
        "conn = sqlite3.connect('phonepe.db')\n",
        "\n",
        "cursor = conn.cursor()\n"
      ]
    },
    {
      "cell_type": "code",
      "execution_count": 17,
      "metadata": {
        "id": "3Saiwm7NfVbU"
      },
      "outputs": [],
      "source": [
        "df_data_transaction.to_sql('dataTransaction',conn,if_exists= 'replace',index=False)\n",
        "df_data_users.to_sql('dataUsers',conn, if_exists='replace', index=False)\n",
        "df_map_transaction.to_sql('mapTransaction',conn, if_exists= 'replace', index=False)\n",
        "df_map_users.to_sql('mapUsers', conn, if_exists='replace', index=False)\n",
        "df_top_transaction.to_sql('topTransaction', conn, if_exists='replace', index=False)\n",
        "df_top_users.to_sql('topUsers', conn, if_exists='replace', index=False)"
      ]
    },
    {
      "cell_type": "code",
      "execution_count": 18,
      "metadata": {
        "id": "v7EBn5Sxhsbk",
        "colab": {
          "base_uri": "https://localhost:8080/"
        },
        "outputId": "33aebda3-5caa-4d6e-dd22-f24bd66b8eab"
      },
      "outputs": [
        {
          "output_type": "stream",
          "name": "stdout",
          "text": [
            "Looking in indexes: https://pypi.org/simple, https://us-python.pkg.dev/colab-wheels/public/simple/\n",
            "Collecting streamlit\n",
            "  Downloading streamlit-1.19.0-py2.py3-none-any.whl (9.6 MB)\n",
            "\u001b[2K     \u001b[90m━━━━━━━━━━━━━━━━━━━━━━━━━━━━━━━━━━━━━━━━\u001b[0m \u001b[32m9.6/9.6 MB\u001b[0m \u001b[31m44.1 MB/s\u001b[0m eta \u001b[36m0:00:00\u001b[0m\n",
            "\u001b[?25hCollecting blinker>=1.0.0\n",
            "  Downloading blinker-1.5-py2.py3-none-any.whl (12 kB)\n",
            "Requirement already satisfied: pyarrow>=4.0 in /usr/local/lib/python3.8/dist-packages (from streamlit) (9.0.0)\n",
            "Requirement already satisfied: numpy in /usr/local/lib/python3.8/dist-packages (from streamlit) (1.22.4)\n",
            "Requirement already satisfied: tzlocal>=1.1 in /usr/local/lib/python3.8/dist-packages (from streamlit) (1.5.1)\n",
            "Requirement already satisfied: cachetools>=4.0 in /usr/local/lib/python3.8/dist-packages (from streamlit) (5.3.0)\n",
            "Collecting watchdog\n",
            "  Downloading watchdog-2.3.0-py3-none-manylinux2014_x86_64.whl (80 kB)\n",
            "\u001b[2K     \u001b[90m━━━━━━━━━━━━━━━━━━━━━━━━━━━━━━━━━━━━━━━━\u001b[0m \u001b[32m80.7/80.7 KB\u001b[0m \u001b[31m7.1 MB/s\u001b[0m eta \u001b[36m0:00:00\u001b[0m\n",
            "\u001b[?25hRequirement already satisfied: requests>=2.4 in /usr/local/lib/python3.8/dist-packages (from streamlit) (2.25.1)\n",
            "Collecting rich>=10.11.0\n",
            "  Downloading rich-13.3.1-py3-none-any.whl (239 kB)\n",
            "\u001b[2K     \u001b[90m━━━━━━━━━━━━━━━━━━━━━━━━━━━━━━━━━━━━━━\u001b[0m \u001b[32m239.0/239.0 KB\u001b[0m \u001b[31m19.4 MB/s\u001b[0m eta \u001b[36m0:00:00\u001b[0m\n",
            "\u001b[?25hCollecting validators>=0.2\n",
            "  Downloading validators-0.20.0.tar.gz (30 kB)\n",
            "  Preparing metadata (setup.py) ... \u001b[?25l\u001b[?25hdone\n",
            "Requirement already satisfied: python-dateutil in /usr/local/lib/python3.8/dist-packages (from streamlit) (2.8.2)\n",
            "Requirement already satisfied: toml in /usr/local/lib/python3.8/dist-packages (from streamlit) (0.10.2)\n",
            "Collecting pympler>=0.9\n",
            "  Downloading Pympler-1.0.1-py3-none-any.whl (164 kB)\n",
            "\u001b[2K     \u001b[90m━━━━━━━━━━━━━━━━━━━━━━━━━━━━━━━━━━━━━━\u001b[0m \u001b[32m164.8/164.8 KB\u001b[0m \u001b[31m15.5 MB/s\u001b[0m eta \u001b[36m0:00:00\u001b[0m\n",
            "\u001b[?25hCollecting gitpython!=3.1.19\n",
            "  Downloading GitPython-3.1.31-py3-none-any.whl (184 kB)\n",
            "\u001b[2K     \u001b[90m━━━━━━━━━━━━━━━━━━━━━━━━━━━━━━━━━━━━━━\u001b[0m \u001b[32m184.3/184.3 KB\u001b[0m \u001b[31m17.0 MB/s\u001b[0m eta \u001b[36m0:00:00\u001b[0m\n",
            "\u001b[?25hRequirement already satisfied: protobuf<4,>=3.12 in /usr/local/lib/python3.8/dist-packages (from streamlit) (3.19.6)\n",
            "Requirement already satisfied: packaging>=14.1 in /usr/local/lib/python3.8/dist-packages (from streamlit) (23.0)\n",
            "Requirement already satisfied: pillow>=6.2.0 in /usr/local/lib/python3.8/dist-packages (from streamlit) (7.1.2)\n",
            "Collecting semver\n",
            "  Downloading semver-2.13.0-py2.py3-none-any.whl (12 kB)\n",
            "Requirement already satisfied: altair>=3.2.0 in /usr/local/lib/python3.8/dist-packages (from streamlit) (4.2.2)\n",
            "Requirement already satisfied: tornado>=6.0.3 in /usr/local/lib/python3.8/dist-packages (from streamlit) (6.2)\n",
            "Requirement already satisfied: pandas>=0.25 in /usr/local/lib/python3.8/dist-packages (from streamlit) (1.3.5)\n",
            "Requirement already satisfied: click>=7.0 in /usr/local/lib/python3.8/dist-packages (from streamlit) (7.1.2)\n",
            "Requirement already satisfied: typing-extensions>=3.10.0.0 in /usr/local/lib/python3.8/dist-packages (from streamlit) (4.5.0)\n",
            "Collecting pydeck>=0.1.dev5\n",
            "  Downloading pydeck-0.8.0-py2.py3-none-any.whl (4.7 MB)\n",
            "\u001b[2K     \u001b[90m━━━━━━━━━━━━━━━━━━━━━━━━━━━━━━━━━━━━━━━━\u001b[0m \u001b[32m4.7/4.7 MB\u001b[0m \u001b[31m75.8 MB/s\u001b[0m eta \u001b[36m0:00:00\u001b[0m\n",
            "\u001b[?25hRequirement already satisfied: importlib-metadata>=1.4 in /usr/local/lib/python3.8/dist-packages (from streamlit) (6.0.0)\n",
            "Requirement already satisfied: jsonschema>=3.0 in /usr/local/lib/python3.8/dist-packages (from altair>=3.2.0->streamlit) (4.3.3)\n",
            "Requirement already satisfied: toolz in /usr/local/lib/python3.8/dist-packages (from altair>=3.2.0->streamlit) (0.12.0)\n",
            "Requirement already satisfied: entrypoints in /usr/local/lib/python3.8/dist-packages (from altair>=3.2.0->streamlit) (0.4)\n",
            "Requirement already satisfied: jinja2 in /usr/local/lib/python3.8/dist-packages (from altair>=3.2.0->streamlit) (2.11.3)\n",
            "Collecting gitdb<5,>=4.0.1\n",
            "  Downloading gitdb-4.0.10-py3-none-any.whl (62 kB)\n",
            "\u001b[2K     \u001b[90m━━━━━━━━━━━━━━━━━━━━━━━━━━━━━━━━━━━━━━━━\u001b[0m \u001b[32m62.7/62.7 KB\u001b[0m \u001b[31m7.4 MB/s\u001b[0m eta \u001b[36m0:00:00\u001b[0m\n",
            "\u001b[?25hRequirement already satisfied: zipp>=0.5 in /usr/local/lib/python3.8/dist-packages (from importlib-metadata>=1.4->streamlit) (3.14.0)\n",
            "Requirement already satisfied: pytz>=2017.3 in /usr/local/lib/python3.8/dist-packages (from pandas>=0.25->streamlit) (2022.7.1)\n",
            "Requirement already satisfied: six>=1.5 in /usr/local/lib/python3.8/dist-packages (from python-dateutil->streamlit) (1.15.0)\n",
            "Requirement already satisfied: certifi>=2017.4.17 in /usr/local/lib/python3.8/dist-packages (from requests>=2.4->streamlit) (2022.12.7)\n",
            "Requirement already satisfied: idna<3,>=2.5 in /usr/local/lib/python3.8/dist-packages (from requests>=2.4->streamlit) (2.10)\n",
            "Requirement already satisfied: urllib3<1.27,>=1.21.1 in /usr/local/lib/python3.8/dist-packages (from requests>=2.4->streamlit) (1.24.3)\n",
            "Requirement already satisfied: chardet<5,>=3.0.2 in /usr/local/lib/python3.8/dist-packages (from requests>=2.4->streamlit) (4.0.0)\n",
            "Collecting pygments<3.0.0,>=2.14.0\n",
            "  Downloading Pygments-2.14.0-py3-none-any.whl (1.1 MB)\n",
            "\u001b[2K     \u001b[90m━━━━━━━━━━━━━━━━━━━━━━━━━━━━━━━━━━━━━━━━\u001b[0m \u001b[32m1.1/1.1 MB\u001b[0m \u001b[31m68.3 MB/s\u001b[0m eta \u001b[36m0:00:00\u001b[0m\n",
            "\u001b[?25hCollecting markdown-it-py<3.0.0,>=2.1.0\n",
            "  Downloading markdown_it_py-2.2.0-py3-none-any.whl (84 kB)\n",
            "\u001b[2K     \u001b[90m━━━━━━━━━━━━━━━━━━━━━━━━━━━━━━━━━━━━━━━━\u001b[0m \u001b[32m84.5/84.5 KB\u001b[0m \u001b[31m9.4 MB/s\u001b[0m eta \u001b[36m0:00:00\u001b[0m\n",
            "\u001b[?25hRequirement already satisfied: decorator>=3.4.0 in /usr/local/lib/python3.8/dist-packages (from validators>=0.2->streamlit) (4.4.2)\n",
            "Collecting smmap<6,>=3.0.1\n",
            "  Downloading smmap-5.0.0-py3-none-any.whl (24 kB)\n",
            "Requirement already satisfied: MarkupSafe>=0.23 in /usr/local/lib/python3.8/dist-packages (from jinja2->altair>=3.2.0->streamlit) (2.0.1)\n",
            "Requirement already satisfied: attrs>=17.4.0 in /usr/local/lib/python3.8/dist-packages (from jsonschema>=3.0->altair>=3.2.0->streamlit) (22.2.0)\n",
            "Requirement already satisfied: importlib-resources>=1.4.0 in /usr/local/lib/python3.8/dist-packages (from jsonschema>=3.0->altair>=3.2.0->streamlit) (5.12.0)\n",
            "Requirement already satisfied: pyrsistent!=0.17.0,!=0.17.1,!=0.17.2,>=0.14.0 in /usr/local/lib/python3.8/dist-packages (from jsonschema>=3.0->altair>=3.2.0->streamlit) (0.19.3)\n",
            "Collecting mdurl~=0.1\n",
            "  Downloading mdurl-0.1.2-py3-none-any.whl (10.0 kB)\n",
            "Building wheels for collected packages: validators\n",
            "  Building wheel for validators (setup.py) ... \u001b[?25l\u001b[?25hdone\n",
            "  Created wheel for validators: filename=validators-0.20.0-py3-none-any.whl size=19581 sha256=0567d3d85fb1039698dfa48172e83623ff208f7743d42a9c895bf27c3477d381\n",
            "  Stored in directory: /root/.cache/pip/wheels/19/09/72/3eb74d236bb48bd0f3c6c3c83e4e0c5bbfcbcad7c6c3539db8\n",
            "Successfully built validators\n",
            "Installing collected packages: watchdog, validators, smmap, semver, pympler, pygments, mdurl, blinker, pydeck, markdown-it-py, gitdb, rich, gitpython, streamlit\n",
            "  Attempting uninstall: pygments\n",
            "    Found existing installation: Pygments 2.6.1\n",
            "    Uninstalling Pygments-2.6.1:\n",
            "      Successfully uninstalled Pygments-2.6.1\n",
            "\u001b[31mERROR: pip's dependency resolver does not currently take into account all the packages that are installed. This behaviour is the source of the following dependency conflicts.\n",
            "ipython 7.9.0 requires jedi>=0.10, which is not installed.\u001b[0m\u001b[31m\n",
            "\u001b[0mSuccessfully installed blinker-1.5 gitdb-4.0.10 gitpython-3.1.31 markdown-it-py-2.2.0 mdurl-0.1.2 pydeck-0.8.0 pygments-2.14.0 pympler-1.0.1 rich-13.3.1 semver-2.13.0 smmap-5.0.0 streamlit-1.19.0 validators-0.20.0 watchdog-2.3.0\n"
          ]
        }
      ],
      "source": [
        "!pip install streamlit"
      ]
    },
    {
      "cell_type": "code",
      "execution_count": 19,
      "metadata": {
        "id": "C-2Qd0JslPdR",
        "colab": {
          "base_uri": "https://localhost:8080/"
        },
        "outputId": "bda51fed-5eac-49d8-cc77-f4484e3a616b"
      },
      "outputs": [
        {
          "output_type": "stream",
          "name": "stdout",
          "text": [
            "Looking in indexes: https://pypi.org/simple, https://us-python.pkg.dev/colab-wheels/public/simple/\n",
            "Collecting pyngrok\n",
            "  Downloading pyngrok-5.2.1.tar.gz (761 kB)\n",
            "\u001b[2K     \u001b[90m━━━━━━━━━━━━━━━━━━━━━━━━━━━━━━━━━━━━━━\u001b[0m \u001b[32m761.3/761.3 KB\u001b[0m \u001b[31m11.7 MB/s\u001b[0m eta \u001b[36m0:00:00\u001b[0m\n",
            "\u001b[?25h  Preparing metadata (setup.py) ... \u001b[?25l\u001b[?25hdone\n",
            "Requirement already satisfied: PyYAML in /usr/local/lib/python3.8/dist-packages (from pyngrok) (6.0)\n",
            "Building wheels for collected packages: pyngrok\n",
            "  Building wheel for pyngrok (setup.py) ... \u001b[?25l\u001b[?25hdone\n",
            "  Created wheel for pyngrok: filename=pyngrok-5.2.1-py3-none-any.whl size=19792 sha256=0a86d4801552c68f17cd1c9aa703056411c3fd93fe0be20bcbd9df7e662d2e24\n",
            "  Stored in directory: /root/.cache/pip/wheels/5d/f2/70/526da675d32f17577ec47ac4c663084efe39d47c826b6c3bb1\n",
            "Successfully built pyngrok\n",
            "Installing collected packages: pyngrok\n",
            "Successfully installed pyngrok-5.2.1\n"
          ]
        }
      ],
      "source": [
        "!pip install pyngrok"
      ]
    },
    {
      "cell_type": "code",
      "execution_count": 20,
      "metadata": {
        "id": "VSO3uGUqlXgb"
      },
      "outputs": [],
      "source": [
        "from pyngrok import ngrok"
      ]
    },
    {
      "cell_type": "code",
      "execution_count": 21,
      "metadata": {
        "colab": {
          "base_uri": "https://localhost:8080/"
        },
        "id": "Rfy7u1C7lI9m",
        "outputId": "cde81015-91e5-44fa-df2e-be9d895deb7b"
      },
      "outputs": [
        {
          "output_type": "stream",
          "name": "stdout",
          "text": []
        }
      ],
      "source": [
        "ngrok.set_auth_token('2L6Kz7Hvawi3QB7akHGUu8CRsfi_5JPuFqERA67quEKGFuvaU')"
      ]
    },
    {
      "cell_type": "code",
      "execution_count": 43,
      "metadata": {
        "colab": {
          "base_uri": "https://localhost:8080/"
        },
        "id": "GMq3R8Cdhtod",
        "outputId": "20d8a8c6-dd42-4fae-9786-965e57729b17"
      },
      "outputs": [
        {
          "output_type": "stream",
          "name": "stdout",
          "text": [
            "Overwriting app.py\n"
          ]
        }
      ],
      "source": [
        "%%writefile app.py\n",
        "\n",
        "# install packages\n",
        "\n",
        "import streamlit as st \n",
        "import numpy as np \n",
        "import pandas as pd\n",
        "import plotly.express as px\n",
        "import sqlite3\n",
        "\n",
        "#-------Page Configuration--------\n",
        "\n",
        "st.set_page_config(page_title=\"Phonepe Pulse\",\n",
        "                    page_icon=\":bar_chart:\",\n",
        "                    layout=\"wide\"\n",
        "                    )\n",
        "\n",
        "st.title(\"Phonepe Pulse Dashboard\")\n",
        "conn = sqlite3.connect('phonepe.db')\n",
        "cursor = conn.cursor()\n",
        "\n",
        "#making database connection\n",
        "\n",
        "sql1='''select * from dataTransaction as dt'''\n",
        "sql2='''select * from datausers as du'''\n",
        "sql3='''select * from mapTransaction as mt'''\n",
        "sql4='''select * from mapUsers as mu'''\n",
        "sql5='''select * from topTransaction as tt'''\n",
        "sql6='''select * from topusers as tu'''\n",
        "\n",
        "df_aggre_1=pd.read_sql(sql1,conn)\n",
        "df_aggre_2=pd.read_sql(sql2,conn)\n",
        "df_map_1=pd.read_sql(sql3,conn)\n",
        "df_map_2=pd.read_sql(sql4,conn)\n",
        "df_top_1=pd.read_sql(sql5,conn)\n",
        "df_top_2=pd.read_sql(sql6,conn)\n",
        "\n",
        "\n",
        "def main():\n",
        "  st.sidebar.header(\"Filters\")\n",
        "  menu=[\"Home\",\"Transaction type\",\"Brand\",\"District wise\"]\n",
        "  choice= st.sidebar.selectbox(\"Select\",menu)\n",
        "\n",
        "\n",
        "#-----------------Home page aggregated data--------------\n",
        "  \n",
        "  if choice==\"Home\":\n",
        "    st.subheader(\"Aggregated Data\")\n",
        "\n",
        "    year= st.sidebar.multiselect(\"Select year:\",\n",
        "                              options=df_aggre_1[\"Year\"].unique()\n",
        "                              \n",
        "                              )\n",
        "\n",
        "    state= st.sidebar.multiselect(\"Select state:\",\n",
        "                              options=df_aggre_1[\"State\"].unique()\n",
        "                             \n",
        "                              )\n",
        "\n",
        "    quarter= st.sidebar.multiselect(\"Select quarter:\",\n",
        "                              options=df_aggre_1[\"Quarter\"].unique()\n",
        "                              \n",
        "                              )\n",
        "\n",
        "    st.subheader(\":iphone: Aggregated Transactions Details\")\n",
        "    st.markdown(\"##\")\n",
        "\n",
        "\n",
        "    if year and state and quarter:\n",
        "      df_selection_1 = df_aggre_1.query(\"Year==@year & State==@state & Quarter==@quarter\")\n",
        "      df_selection_2 = df_aggre_2.query(\"Year==@year & State==@state & Quarter==@quarter\")\n",
        "      df_selection_3 = df_map_1.query(\"Year==@year & State==@state & Quarter==@quarter\")\n",
        "      df_selection_4 = df_map_2.query(\"Year==@year & State==@state & Quarter==@quarter\")\n",
        "\n",
        "    elif year:\n",
        "      df_selection_1 = df_aggre_1.query(\"Year==@year\")\n",
        "      df_selection_2 = df_aggre_2.query(\"Year==@year\")\n",
        "      df_selection_3 = df_map_1.query(\"Year==@year\")\n",
        "      df_selection_4 = df_map_2.query(\"Year==@year\")\n",
        "\n",
        "    elif state:\n",
        "      df_selection_1 = df_aggre_1.query(\"State==@state\")\n",
        "      df_selection_2 = df_aggre_2.query(\"State==@state\")\n",
        "      df_selection_3 = df_map_1.query(\"State==@state\")\n",
        "      df_selection_4 = df_map_2.query(\"State==@state\")\n",
        "\n",
        "    elif quarter:\n",
        "      df_selection_1 = df_aggre_1.query(\"Quarter==@quarter\")\n",
        "      df_selection_2 = df_aggre_2.query(\"Quarter==@quarter\")\n",
        "      df_selection_3 = df_map_1.query(\"Quarter==@quarter\")\n",
        "      df_selection_4 = df_map_2.query(\"Quarter==@quarter\")\n",
        "\n",
        "    elif year and state:\n",
        "      df_selection_1 = df_aggre_1.query(\"Year==@year & State==@state\")\n",
        "      df_selection_2 = df_aggre_2.query(\"Year==@year & State==@state\")\n",
        "      df_selection_3 = df_map_1.query(\"Year==@year & State==@state\")\n",
        "      df_selection_4 = df_map_2.query(\"Year==@year & State==@state\")\n",
        "\n",
        "    elif year and quarter:\n",
        "      df_selection_1 = df_aggre_1.query(\"Year==@year & Quarter==@quarter\")\n",
        "      df_selection_2 = df_aggre_2.query(\"Year==@year & Quarter==@quarter\")\n",
        "      df_selection_3 = df_map_1.query(\"Year==@year & Quarter==@quarter\")\n",
        "      df_selection_4 = df_map_2.query(\"Year==@year & Quarter==@quarter\")\n",
        "\n",
        "    elif state and quarter:\n",
        "      df_selection_1 = df_aggre_1.query(\"State==@state & Quarter==@quarter\")\n",
        "      df_selection_2 = df_aggre_2.query(\"State==@state & Quarter==@quarter\")\n",
        "      df_selection_3 = df_map_1.query(\"State==@state & Quarter==@quarter\")\n",
        "      df_selection_4 = df_map_2.query(\"State==@state & Quarter==@quarter\")\n",
        "\n",
        "    else:\n",
        "      df_selection_1 = df_aggre_1\n",
        "      df_selection_2 = df_aggre_2\n",
        "      df_selection_3 = df_map_1\n",
        "      df_selection_4 = df_map_2\n",
        "\n",
        "    tot_count= int(df_selection_1[\"Transaction_count\"].sum())\n",
        "    avg_amount=round(df_selection_1[\"Transaction_amount\"].mean(),2)\n",
        "    reg_users= int(df_selection_4[\"RegisteredUsers\"].sum())\n",
        "\n",
        "    left_column,middle_column, right_column = st.columns(3)\n",
        "\n",
        "    with left_column:\n",
        "        st.write(\"Total Registered Users:busts_in_silhouette:\")\n",
        "        st.write(f\"{reg_users} Nos\")\n",
        "\n",
        "    with middle_column:\n",
        "        st.write(\"Total Transaction count:calling:\")\n",
        "        st.write(f\"{tot_count} Nos\")\n",
        "\n",
        "    with right_column:\n",
        "        st.write(\"Avg Transaction amount:dollar:\")\n",
        "        st.write(f\"{avg_amount} INR\")\n",
        "\n",
        "    st.markdown(\"---\")\n",
        "\n",
        "\n",
        "    df_tran_type=(df_selection_1.groupby(by=[\"Transaction_type\"]).sum()[['Transaction_count','Transaction_amount']])\n",
        "\n",
        "\n",
        "#-----------plotting figures of home page--------\n",
        "\n",
        "    fig_tran_type=px.bar(\n",
        "                      df_tran_type,\n",
        "                      x=\"Transaction_count\",\n",
        "                      y=df_tran_type.index,\n",
        "                      orientation=\"h\",\n",
        "                      hover_data=[\"Transaction_amount\"],\n",
        "                      title=\"Total count of each Transaction type\",\n",
        "                      template=\"plotly_white\",\n",
        "\n",
        "                      width=500,\n",
        "                      height=400\n",
        "\n",
        "\n",
        "                      )\n",
        "    df_brand=(df_selection_2.groupby(by=[\"Brand\"]).sum()[['Count','Percent']])\n",
        "    fig_brand=px.bar(\n",
        "                      df_brand,\n",
        "                      y=\"Count\",\n",
        "                      x=df_brand.index,\n",
        "                      hover_data=[\"Percent\"],\n",
        "                      color=\"Count\",\n",
        "                      title=\"No.of Transaction per Device Brand\",\n",
        "                      template=\"plotly_white\",\n",
        "\n",
        "                      width=500,\n",
        "                      height=400\n",
        "\n",
        "                    )\n",
        "    df_appopen=(df_map_2.groupby(by=[\"Year\"]).sum()[['AppOpen','RegisteredUsers']])\n",
        "    if state or quarter:\n",
        "      df_temp=df_map_2.query(\"State==@state |Quarter==@quarter\")\n",
        "      df_appopen=(df_temp.groupby(by=[\"Year\"]).sum()[['AppOpen','RegisteredUsers']])\n",
        "    fig_appopen=px.pie(df_appopen,\n",
        "                      values=\"AppOpen\",\n",
        "                      names=df_appopen.index,\n",
        "                      hover_data=[\"RegisteredUsers\"],\n",
        "                      color=\"AppOpen\",\n",
        "                      title=\"Total No.of AppOpen\",\n",
        "                      hole=0.4,\n",
        "    )\n",
        "    c1,c3,c2=st.columns(3)\n",
        "\n",
        "    c1.plotly_chart(fig_tran_type, use_container_width=True)\n",
        "    c2.plotly_chart(fig_brand, use_container_width=True)\n",
        "    c3.plotly_chart(fig_appopen, use_container_width=True)\n",
        "\n",
        "\n",
        "    #----------------Transaction type page---------\n",
        "\n",
        "\n",
        "  elif choice==\"Transaction type\":\n",
        "\n",
        "    tran_type= st.sidebar.selectbox(\"Select Transaction type:\",\n",
        "                              options=df_aggre_1[\"Transaction_type\"].unique()\n",
        "                              \n",
        "                              )\n",
        "\n",
        "    year= st.sidebar.selectbox(\"Select year:\",\n",
        "                              options=df_aggre_1[\"Year\"].unique()\n",
        "                              \n",
        "                              )\n",
        "\n",
        "    state= st.sidebar.selectbox(\"Select state:\",\n",
        "                              options=df_aggre_1[\"State\"].unique()\n",
        "                             \n",
        "                              )\n",
        "\n",
        "    quarter= st.sidebar.selectbox(\"Select quarter:\",\n",
        "                              options=df_aggre_1[\"Quarter\"].unique()\n",
        "                              \n",
        "                              )\n",
        "\n",
        "    if tran_type:\n",
        "      st.subheader(tran_type)\n",
        "\n",
        "      df_transaction = df_aggre_1.query(\"Transaction_type==@tran_type\")\n",
        "      df_transaction = df_aggre_1.query(\"Transaction_type==@tran_type & State==@state & Quarter==@quarter\")\n",
        "      df_year= (df_transaction.groupby(by=[\"Year\"]).sum()[[\"Transaction_count\",\"Transaction_amount\"]])\n",
        "\n",
        "      fig_year_tran=px.bar(df_year,\n",
        "                       orientation=\"h\",\n",
        "                       y=df_year.index,\n",
        "                       x=\"Transaction_count\",\n",
        "                       color=df_year.index,\n",
        "                       hover_data=[\"Transaction_amount\"],\n",
        "                       title=\"Transaction count per year\",\n",
        "                       )\n",
        "\n",
        "      df_transaction = df_aggre_1.query(\"Transaction_type==@tran_type & Year==@year & Quarter==@quarter\")\n",
        "      df_state= (df_transaction.groupby(by=[\"State\"]).sum()[[\"Transaction_count\",\"Transaction_amount\"]])\n",
        "      fig_state_tran=px.bar(df_state,\n",
        "                       x=df_state.index,\n",
        "                       y=\"Transaction_count\",\n",
        "                       hover_data=[\"Transaction_amount\"],\n",
        "                       title=\"Transaction count per state\",\n",
        "                       )\n",
        "      df_transaction = df_aggre_1.query(\"Transaction_type==@tran_type & State==@state\")\n",
        "      df_quarter= (df_transaction.groupby(by=[\"Quarter\"]).sum()[[\"Transaction_count\",\"Transaction_amount\"]])\n",
        "      fig_quarter_tran=px.bar(df_quarter,\n",
        "                       x=df_quarter.index,\n",
        "                       y=\"Transaction_amount\",\n",
        "                       hover_data=[\"Transaction_count\"],\n",
        "                       color=\"Transaction_amount\",\n",
        "                       title=\"Transaction amount per quarter\",\n",
        "                       )\n",
        "\n",
        "      col1,col2,col3= st.columns(3)\n",
        "      col1.plotly_chart(fig_year_tran,use_container_width=True)\n",
        "      col2.plotly_chart(fig_state_tran,use_container_width=True)\n",
        "      col3.plotly_chart(fig_quarter_tran,use_container_width=True)\n",
        "\n",
        "      st.markdown(\"-----\")\n",
        "\n",
        "      if year and state and quarter:\n",
        "        df_selection_1 = df_aggre_1.query(\"Year==@year & State==@state & Quarter==@quarter & Transaction_type==@tran_type\")\n",
        "        tot_count= int(df_selection_1[\"Transaction_count\"].sum())\n",
        "        avg_amount=round(df_selection_1[\"Transaction_amount\"].mean(),2)\n",
        "\n",
        "        c1,c2=st.columns(2)\n",
        "        with c1:\n",
        "          st.subheader(\"Transaction count:calling:\")\n",
        "          st.subheader(f\"{tot_count} Nos\")\n",
        "\n",
        "        with c2:\n",
        "          st.subheader(\"Average Amount:dollar:\")\n",
        "          st.subheader(f\"{avg_amount} INR\")\n",
        "\n",
        "\n",
        "  #--------------Brand wise details---------------\n",
        "  \n",
        "  elif choice==\"Brand\":\n",
        "    brand= st.sidebar.selectbox(\"Select Phone brand:\",\n",
        "                              options=df_aggre_2[\"Brand\"].unique()\n",
        "\n",
        "                              )\n",
        "\n",
        "    year= st.sidebar.selectbox(\"Select year:\",\n",
        "                              options=df_aggre_1[\"Year\"].unique()\n",
        "                              \n",
        "                              )\n",
        "\n",
        "    state= st.sidebar.selectbox(\"Select state:\",\n",
        "                              options=df_aggre_1[\"State\"].unique()\n",
        "                             \n",
        "                              )\n",
        "\n",
        "    quarter= st.sidebar.selectbox(\"Select quarter:\",\n",
        "                              options=df_aggre_1[\"Quarter\"].unique()\n",
        "                              \n",
        "                              )\n",
        "\n",
        "    if brand:\n",
        "      st.subheader(brand)\n",
        "      \n",
        "      df_brand = df_aggre_2.query(\"Brand==@brand & State==@state & Quarter==@quarter\")\n",
        "      df_brand_1 = df_aggre_2.query(\"Brand==@brand & Year==@year & Quarter==@quarter\")\n",
        "      df_brand_2 = df_aggre_2.query(\"Brand==@brand & Year==@year & State==@state\")\n",
        "\n",
        "      tot_count= int(df_brand_2[\"Count\"].sum())      \n",
        "\n",
        "      st.write(f\"Total transaction during {year} in {state} is :red: {tot_count}: Nos\")\n",
        "      \n",
        "      df_year= (df_brand.groupby(by=[\"Year\"]).sum()[[\"Count\",\"Percent\"]])\n",
        "\n",
        "      fig_year_brand=px.bar(df_year,\n",
        "                       x=df_year.index,\n",
        "                       y=\"Count\",\n",
        "                       hover_data=[\"Percent\"],\n",
        "                       title=\"Transaction count per year\",\n",
        "                       )\n",
        "\n",
        "  \n",
        "      df_state= (df_brand_1.groupby(by=[\"State\"]).sum()[[\"Count\",\"Percent\"]])\n",
        "      fig_state_brand=px.pie(df_state,\n",
        "                       names=df_state.index,\n",
        "                       values=\"Count\",\n",
        "                       hole=0.4,\n",
        "                       hover_data=[\"Percent\"],\n",
        "                       title=\"Transaction count per state\",\n",
        "                       )\n",
        "      fig_state_brand.update_traces(textposition=\"inside\")\n",
        "      #fig_state_brand.update_layout(uniformtext_minsize=12, uniformtext_mode='hide')\n",
        "     \n",
        "      df_quarter= (df_brand_2.groupby(by=[\"Quarter\"]).sum()[[\"Count\",\"Percent\"]])\n",
        "      fig_quarter_brand=px.bar(df_quarter,\n",
        "                       x=df_quarter.index,\n",
        "                       y=\"Count\",\n",
        "                       hover_data=[\"Percent\"],\n",
        "                       color=\"Percent\",\n",
        "                       title=\"Transaction count per quarter\",\n",
        "                       )\n",
        "\n",
        "      col1,col2,col3= st.columns(3)\n",
        "      col1.plotly_chart(fig_year_brand,use_container_width=True)\n",
        "      col2.plotly_chart(fig_state_brand,use_container_width=True)\n",
        "    \n",
        "      col3.plotly_chart(fig_quarter_brand,use_container_width=True)\n",
        "\n",
        "      st.markdown(\"-----\")\n",
        "                               \n",
        "\n",
        "\n",
        "  #--------------District wise details---------\n",
        "  else:          \n",
        "    state=st.sidebar.selectbox(\"Select state:\",\n",
        "                                options=df_aggre_1[\"State\"].unique()\n",
        "                                \n",
        "                                ) \n",
        "\n",
        "    df_selection_3 = df_map_1.query(\"State==@state\")                   \n",
        "    district=st.sidebar.selectbox(\"Select district:\",\n",
        "                              options=df_selection_3[\"District\"].unique()\n",
        "                              \n",
        "                              )\n",
        "    year= st.sidebar.selectbox(\"Select year:\",\n",
        "                              options=df_aggre_1[\"Year\"].unique()\n",
        "                              \n",
        "                              )\n",
        "    quarter= st.sidebar.selectbox(\"Select quarter:\",\n",
        "                              options=df_aggre_1[\"Quarter\"].unique()\n",
        "                              \n",
        "                              )\n",
        "\n",
        "    \n",
        "\n",
        "    if district:\n",
        "      st.subheader(f\"{district.upper()}\")\n",
        "      df_user = df_map_2.query(\"District==@district\")\n",
        "      df_reg_user= (df_user.groupby(by=[\"Year\"]).sum()[[\"RegisteredUsers\",\"AppOpen\"]])\n",
        "\n",
        "      fig_reg_year=px.bar(df_reg_user,\n",
        "                      y=df_reg_user.index,\n",
        "                      x=\"RegisteredUsers\",\n",
        "                      orientation='h',\n",
        "                      template=\"plotly_white\",\n",
        "                      title=\"Registered Users per year\"\n",
        "                      )\n",
        "\n",
        "      fig_app_year=px.bar(df_reg_user,\n",
        "                      x=df_reg_user.index,\n",
        "                      y=\"AppOpen\",\n",
        "                      color=\"RegisteredUsers\",\n",
        "                      template=\"plotly_white\",\n",
        "                      title=\"App Open per year\"\n",
        "                      )\n",
        "\n",
        "      cola,colb,colc=st.columns(3)\n",
        "      cola.plotly_chart(fig_reg_year,use_container_width=True)\n",
        "      colb.plotly_chart(fig_app_year,use_container_width=True)\n",
        "      \n",
        "      st.markdown(\"----\")\n",
        "    \n",
        "\n",
        "      df_map_1a=df_map_1.query(\"Year==@year & State==@state & Quarter==@quarter & District==@district\")\n",
        "      dist_tran_count= int(df_map_1a[\"Transaction_count\"].sum())\n",
        "      dist_avg_amount=round(df_map_1a[\"Transaction_amount\"].mean(),2)\n",
        "      with colc:\n",
        "        st.header(\"\")\n",
        "        st.header(\"\")\n",
        "\n",
        "        st.write(\"Transaction count:calling:\")\n",
        "        st.subheader(f\"{dist_tran_count} Nos\")\n",
        "        \n",
        "        st.write(\"Average Amount:money_with_wings:\")\n",
        "        st.subheader(f\"{dist_avg_amount} INR\")\n",
        "\n",
        "\n",
        "  st.sidebar.markdown(\"---\")\n",
        "if __name__=='__main__':\n",
        "  main()\n",
        "\n",
        "\n"
      ]
    },
    {
      "cell_type": "code",
      "execution_count": 23,
      "metadata": {
        "colab": {
          "base_uri": "https://localhost:8080/"
        },
        "id": "UdyrcjA6lohb",
        "outputId": "c7f0c0e4-95ad-442b-f716-0c2915f0ebbb"
      },
      "outputs": [
        {
          "output_type": "stream",
          "name": "stdout",
          "text": [
            "nohup: appending output to 'nohup.out'\n",
            "NgrokTunnel: \"http://fd8e-35-231-78-42.ngrok.io\" -> \"http://localhost:80\"\n"
          ]
        }
      ],
      "source": [
        "!nohup streamlit run app.py --server.port 80 &\n",
        "url = ngrok.connect(port = '80')\n",
        "print(url)"
      ]
    },
    {
      "cell_type": "code",
      "execution_count": null,
      "metadata": {
        "id": "-m-cJIERVyzc"
      },
      "outputs": [],
      "source": [
        "px.bar( )"
      ]
    },
    {
      "cell_type": "code",
      "execution_count": null,
      "metadata": {
        "id": "inRL_70ba-tT"
      },
      "outputs": [],
      "source": []
    }
  ],
  "metadata": {
    "colab": {
      "provenance": [],
      "authorship_tag": "ABX9TyPh5/oNRscNJu5yM9cbIjQc",
      "include_colab_link": true
    },
    "kernelspec": {
      "display_name": "Python 3",
      "name": "python3"
    },
    "language_info": {
      "name": "python"
    }
  },
  "nbformat": 4,
  "nbformat_minor": 0
}