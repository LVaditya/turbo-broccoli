{
  "cells": [
    {
      "cell_type": "markdown",
      "metadata": {
        "id": "view-in-github",
        "colab_type": "text"
      },
      "source": [
        "<a href=\"https://colab.research.google.com/github/LVaditya/turbo-broccoli/blob/main/Phonepe_Pulse.ipynb\" target=\"_parent\"><img src=\"https://colab.research.google.com/assets/colab-badge.svg\" alt=\"Open In Colab\"/></a>"
      ]
    },
    {
      "cell_type": "code",
      "execution_count": 1,
      "metadata": {
        "colab": {
          "base_uri": "https://localhost:8080/"
        },
        "id": "1OahfLVpNDdm",
        "outputId": "9a547e6f-f4d5-4083-ca9d-2dd5212e6843"
      },
      "outputs": [
        {
          "output_type": "stream",
          "name": "stdout",
          "text": [
            "Cloning into 'pulse'...\n",
            "remote: Enumerating objects: 7975, done.\u001b[K\n",
            "remote: Counting objects: 100% (7975/7975), done.\u001b[K\n",
            "remote: Compressing objects: 100% (6637/6637), done.\u001b[K\n",
            "remote: Total 7975 (delta 2465), reused 6527 (delta 1031), pack-reused 0\u001b[K\n",
            "Receiving objects: 100% (7975/7975), 2.11 MiB | 5.64 MiB/s, done.\n",
            "Resolving deltas: 100% (2465/2465), done.\n"
          ]
        }
      ],
      "source": [
        "!git clone https://github.com/PhonePe/pulse.git"
      ]
    },
    {
      "cell_type": "code",
      "execution_count": 2,
      "metadata": {
        "id": "vwCpno1G9-yz"
      },
      "outputs": [],
      "source": [
        "import os,json\n",
        "import pandas as pd\n",
        "import glob"
      ]
    },
    {
      "cell_type": "code",
      "execution_count": 3,
      "metadata": {
        "id": "wIoP7eWAIWVR"
      },
      "outputs": [],
      "source": [
        "path0='/content/pulse/data/aggregated/transaction/country/india/state/'\n",
        "\n",
        "aggstate_list= os.listdir(path0)"
      ]
    },
    {
      "cell_type": "code",
      "execution_count": 4,
      "metadata": {
        "id": "XyVCxpV9QgTQ"
      },
      "outputs": [],
      "source": [
        "clm={'State':[], 'Year':[], 'Quarter':[], 'Transaction_type':[], 'Transaction_count':[], 'Transaction_amount':[]}\n",
        "for i in aggstate_list:\n",
        "  p_i=path0+i+\"/\"\n",
        "  agg_yr=os.listdir(p_i)\n",
        "  for j in agg_yr:\n",
        "    p_j=p_i+j+\"/\"\n",
        "    Agg_yr_list=os.listdir(p_j) \n",
        "    for k in Agg_yr_list:\n",
        "      p_k=p_j+k\n",
        "      Data=open(p_k,'r')\n",
        "      D=json.load(Data)\n",
        "      for z in D['data']['transactionData']:\n",
        "        Name=z['name']\n",
        "        Count=z['paymentInstruments'][0]['count']\n",
        "        amount=z['paymentInstruments'][0]['amount']\n",
        "        clm['Transaction_type'].append(Name)\n",
        "        clm['Transaction_count'].append(Count)\n",
        "        clm['Transaction_amount'].append(amount)\n",
        "        clm['State'].append(i)\n",
        "        clm['Year'].append(j)\n",
        "        clm['Quarter'].append(int(k.strip('.json')))\n",
        "\n",
        "df_data_transaction=pd.DataFrame(clm)\n",
        "\n"
      ]
    },
    {
      "cell_type": "code",
      "execution_count": 5,
      "metadata": {
        "id": "FX3r9qMEjCxZ"
      },
      "outputs": [],
      "source": [
        "path1='/content/pulse/data/aggregated/user/country/india/state/'\n",
        "aggstate_list=os.listdir(path1)"
      ]
    },
    {
      "cell_type": "code",
      "execution_count": 6,
      "metadata": {
        "id": "mV3BxFQ4napU"
      },
      "outputs": [],
      "source": [
        "clm1={'State':[], 'Year':[], 'Quarter':[], 'Brand':[], 'Count':[], 'Percent':[]}\n",
        "for i in aggstate_list:\n",
        "  p_i=path1+i+\"/\"\n",
        "  agg_yr=os.listdir(p_i)\n",
        "  for j in agg_yr:\n",
        "    p_j=p_i+j+\"/\"\n",
        "    agg_yr_list=os.listdir(p_j)\n",
        "    for k in agg_yr_list:\n",
        "      p_k=p_j+k\n",
        "      Data=open(p_k,'r')\n",
        "      D=json.load(Data)\n",
        "      if D['data']['usersByDevice']:\n",
        "        for z in D['data']['usersByDevice']:\n",
        "          brand=z['brand']\n",
        "          count=z['count']\n",
        "          percent=z['percentage']\n",
        "          clm1['Brand'].append(brand)\n",
        "          clm1['Count'].append(count)\n",
        "          clm1['Percent'].append(percent)\n",
        "          clm1['State'].append(i)\n",
        "          clm1['Year'].append(j)\n",
        "          clm1['Quarter'].append(int(k.strip('.json')))\n",
        "\n",
        "df_data_users=pd.DataFrame(clm1)"
      ]
    },
    {
      "cell_type": "code",
      "execution_count": 7,
      "metadata": {
        "id": "Ko7NCavtfeUr"
      },
      "outputs": [],
      "source": [
        "path2='/content/pulse/data/map/transaction/hover/country/india/state/'\n",
        "aggstate_list=os.listdir(path2)"
      ]
    },
    {
      "cell_type": "code",
      "execution_count": 8,
      "metadata": {
        "id": "q855OtVRgFhL"
      },
      "outputs": [],
      "source": [
        "clm2={'State':[], 'Year':[], 'Quarter':[], 'District':[], 'Transaction_count':[], 'Transaction_amount':[]}\n",
        "for i in aggstate_list:\n",
        "  p_i=path2+i+\"/\"\n",
        "  agg_yr=os.listdir(p_i)\n",
        "  for j in agg_yr:\n",
        "    p_j=p_i+j+\"/\"\n",
        "    Agg_yr_list=os.listdir(p_j) \n",
        "    for k in Agg_yr_list:\n",
        "      p_k=p_j+k\n",
        "      Data=open(p_k,'r')\n",
        "      D=json.load(Data)\n",
        "      for z in D['data']['hoverDataList']:\n",
        "        Name=z['name']\n",
        "        Count=z['metric'][0]['count']\n",
        "        amount=z['metric'][0]['amount']\n",
        "        clm2['District'].append(Name)\n",
        "        clm2['Transaction_count'].append(Count)\n",
        "        clm2['Transaction_amount'].append(amount)\n",
        "        clm2['State'].append(i)\n",
        "        clm2['Year'].append(j)\n",
        "        clm2['Quarter'].append(int(k.strip('.json')))\n",
        "\n",
        "df_map_transaction= pd.DataFrame(clm2)\n"
      ]
    },
    {
      "cell_type": "code",
      "execution_count": 9,
      "metadata": {
        "id": "b-BgkcoLr8Rt"
      },
      "outputs": [],
      "source": [
        "path3='/content/pulse/data/map/user/hover/country/india/state/'\n",
        "aggstate_list=os.listdir(path3)"
      ]
    },
    {
      "cell_type": "code",
      "execution_count": 10,
      "metadata": {
        "id": "Ip-S0_Gfsjrl"
      },
      "outputs": [],
      "source": [
        "clm3={'State':[], 'Year':[], 'Quarter':[], 'District':[], 'RegisteredUsers':[], 'AppOpen':[]}\n",
        "for i in aggstate_list:\n",
        "  p_i=path3+i+\"/\"\n",
        "  agg_yr=os.listdir(p_i)\n",
        "  for j in agg_yr:\n",
        "    p_j=p_i+j+\"/\"\n",
        "    agg_yr_list=os.listdir(p_j)\n",
        "    for k in agg_yr_list:\n",
        "      p_k=p_j+k\n",
        "      Data=open(p_k,'r')\n",
        "      D=json.load(Data)\n",
        "      for z in D['data']['hoverData']:\n",
        "        \n",
        "        clm3['District'].append(z)\n",
        "        clm3['State'].append(i)\n",
        "        clm3['Year'].append(j)\n",
        "        clm3['Quarter'].append(int(k.strip('.json')))\n",
        "        reg_users=D['data']['hoverData'][z]['registeredUsers']\n",
        "        app_open=D['data']['hoverData'][z]['appOpens']\n",
        "        clm3['RegisteredUsers'].append(reg_users)\n",
        "        clm3['AppOpen'].append(app_open)\n",
        "\n",
        "df_map_users= pd.DataFrame(clm3)\n",
        "        \n",
        "      "
      ]
    },
    {
      "cell_type": "code",
      "execution_count": 11,
      "metadata": {
        "id": "0yeGj_uLuVpD"
      },
      "outputs": [],
      "source": [
        "path4='/content/pulse/data/top/transaction/country/india/state/'\n",
        "\n",
        "aggstate_list= os.listdir(path4)"
      ]
    },
    {
      "cell_type": "code",
      "execution_count": 12,
      "metadata": {
        "id": "1hJ194nH8xjs"
      },
      "outputs": [],
      "source": [
        "clm4={'State':[], 'Year':[], 'Quarter':[], 'Entity':[], 'Transaction_count':[], 'Transaction_amount':[]}\n",
        "for i in aggstate_list:\n",
        "  p_i=path4+i+\"/\"\n",
        "  agg_yr=os.listdir(p_i)\n",
        "  for j in agg_yr:\n",
        "    p_j=p_i+j+\"/\"\n",
        "    Agg_yr_list=os.listdir(p_j) \n",
        "    for k in Agg_yr_list:\n",
        "      p_k=p_j+k\n",
        "      Data=open(p_k,'r')\n",
        "      D=json.load(Data)\n",
        "      for z in D['data']:\n",
        "        if z=='districts' or z=='pincodes':\n",
        "\n",
        "          entity=D['data'][z][0]['entityName']\n",
        "          count=D['data'][z][0]['metric']['count']\n",
        "          amount=D['data'][z][0]['metric']['amount']\n",
        "          \n",
        "          clm4['Transaction_count'].append(Count)\n",
        "          clm4['Transaction_amount'].append(amount)\n",
        "          clm4['Entity'].append(entity)\n",
        "          clm4['State'].append(i)\n",
        "          clm4['Year'].append(j)\n",
        "          clm4['Quarter'].append(int(k.strip('.json')))\n",
        "\n",
        "df_top_transaction=pd.DataFrame(clm4)\n"
      ]
    },
    {
      "cell_type": "code",
      "execution_count": 13,
      "metadata": {
        "id": "-JtejwIorxPW"
      },
      "outputs": [],
      "source": [
        "path5='/content/pulse/data/top/user/country/india/state/'\n",
        "\n",
        "aggstate_list= os.listdir(path5)"
      ]
    },
    {
      "cell_type": "code",
      "execution_count": 14,
      "metadata": {
        "id": "R9QrPPZJr1mL"
      },
      "outputs": [],
      "source": [
        "clm5={'State':[], 'Year':[], 'Quarter':[], 'Entity':[], 'Registered_Users':[]}\n",
        "for i in aggstate_list:\n",
        "  p_i=path5+i+\"/\"\n",
        "  agg_yr=os.listdir(p_i)\n",
        "  for j in agg_yr:\n",
        "    p_j=p_i+j+\"/\"\n",
        "    Agg_yr_list=os.listdir(p_j) \n",
        "    for k in Agg_yr_list:\n",
        "      p_k=p_j+k\n",
        "      Data=open(p_k,'r')\n",
        "      D=json.load(Data)\n",
        "      for z in D['data']:\n",
        "        if z=='districts' or z=='pincodes':\n",
        "\n",
        "          entity=D['data'][z][0]['name']\n",
        "          user=D['data'][z][0]['registeredUsers']\n",
        "                    \n",
        "          clm5['Registered_Users'].append(user)\n",
        "          clm5['Entity'].append(entity)\n",
        "          clm5['State'].append(i)\n",
        "          clm5['Year'].append(j)\n",
        "          clm5['Quarter'].append(int(k.strip('.json')))\n",
        "\n",
        "df_top_users=pd.DataFrame(clm5)"
      ]
    },
    {
      "cell_type": "code",
      "execution_count": 15,
      "metadata": {
        "id": "e9R61Q7u7Iy_"
      },
      "outputs": [],
      "source": [
        "import sqlite3\n",
        "import pandas as pd\n"
      ]
    },
    {
      "cell_type": "code",
      "execution_count": 16,
      "metadata": {
        "id": "d2VpUNxTF55L"
      },
      "outputs": [],
      "source": [
        "conn = sqlite3.connect('phonepe.db')\n",
        "\n",
        "cursor = conn.cursor()\n"
      ]
    },
    {
      "cell_type": "code",
      "execution_count": 17,
      "metadata": {
        "id": "3Saiwm7NfVbU"
      },
      "outputs": [],
      "source": [
        "df_data_transaction.to_sql('dataTransaction',conn,if_exists= 'replace',index=False)\n",
        "df_data_users.to_sql('dataUsers',conn, if_exists='replace', index=False)\n",
        "df_map_transaction.to_sql('mapTransaction',conn, if_exists= 'replace', index=False)\n",
        "df_map_users.to_sql('mapUsers', conn, if_exists='replace', index=False)\n",
        "df_top_transaction.to_sql('topTransaction', conn, if_exists='replace', index=False)\n",
        "df_top_users.to_sql('topUsers', conn, if_exists='replace', index=False)"
      ]
    },
    {
      "cell_type": "code",
      "execution_count": 18,
      "metadata": {
        "id": "YA_eEhQjg2if"
      },
      "outputs": [],
      "source": [
        "sql1='''select * from dataTransaction as dt'''\n",
        "\n",
        "sql2='''select * from datausers as du'''\n",
        "sql3='''select * from mapTransaction as mt'''\n",
        "sql4='''select * from mapUsers as mu'''\n",
        "sql5='''select * from topTransaction as tt'''\n",
        "sql6='''select * from topusers as tu'''"
      ]
    },
    {
      "cell_type": "code",
      "execution_count": 19,
      "metadata": {
        "id": "JZebAEaLgo8-"
      },
      "outputs": [],
      "source": [
        "df_aggre_1=pd.read_sql(sql1,conn)\n",
        "df_aggre_2=pd.read_sql(sql2,conn)\n",
        "df_map_1=pd.read_sql(sql3,conn)\n",
        "df_map_2=pd.read_sql(sql4,conn)\n",
        "df_top_1=pd.read_sql(sql5,conn)\n",
        "df_top_2=pd.read_sql(sql6,conn)"
      ]
    },
    {
      "cell_type": "code",
      "execution_count": 20,
      "metadata": {
        "id": "0DmCgiEEYeHG"
      },
      "outputs": [],
      "source": [
        "z='682035'"
      ]
    },
    {
      "cell_type": "code",
      "execution_count": null,
      "metadata": {
        "id": "yO8urdEiW82h"
      },
      "outputs": [],
      "source": [
        "df_top_1.loc[df_top_1[\"Entity\"]==z,['Entity']]=\"Kochi\""
      ]
    },
    {
      "cell_type": "code",
      "execution_count": null,
      "metadata": {
        "colab": {
          "base_uri": "https://localhost:8080/",
          "height": 423
        },
        "id": "7MuEHqeHe_uZ",
        "outputId": "842a315b-183a-481d-a055-1f0638c7b206"
      },
      "outputs": [
        {
          "data": {
            "text/html": [
              "\n",
              "  <div id=\"df-5e71e1d2-d625-4afe-9765-353e957f4e7b\">\n",
              "    <div class=\"colab-df-container\">\n",
              "      <div>\n",
              "<style scoped>\n",
              "    .dataframe tbody tr th:only-of-type {\n",
              "        vertical-align: middle;\n",
              "    }\n",
              "\n",
              "    .dataframe tbody tr th {\n",
              "        vertical-align: top;\n",
              "    }\n",
              "\n",
              "    .dataframe thead th {\n",
              "        text-align: right;\n",
              "    }\n",
              "</style>\n",
              "<table border=\"1\" class=\"dataframe\">\n",
              "  <thead>\n",
              "    <tr style=\"text-align: right;\">\n",
              "      <th></th>\n",
              "      <th>State</th>\n",
              "      <th>Year</th>\n",
              "      <th>Quarter</th>\n",
              "      <th>Entity</th>\n",
              "      <th>Transaction_count</th>\n",
              "      <th>Transaction_amount</th>\n",
              "    </tr>\n",
              "  </thead>\n",
              "  <tbody>\n",
              "    <tr>\n",
              "      <th>0</th>\n",
              "      <td>jharkhand</td>\n",
              "      <td>2021</td>\n",
              "      <td>3</td>\n",
              "      <td>Kochi</td>\n",
              "      <td>15220234</td>\n",
              "      <td>2.984067e+10</td>\n",
              "    </tr>\n",
              "    <tr>\n",
              "      <th>1</th>\n",
              "      <td>jharkhand</td>\n",
              "      <td>2021</td>\n",
              "      <td>3</td>\n",
              "      <td>True</td>\n",
              "      <td>15220234</td>\n",
              "      <td>1.311751e+10</td>\n",
              "    </tr>\n",
              "    <tr>\n",
              "      <th>2</th>\n",
              "      <td>jharkhand</td>\n",
              "      <td>2021</td>\n",
              "      <td>1</td>\n",
              "      <td>Kochi</td>\n",
              "      <td>15220234</td>\n",
              "      <td>2.051652e+10</td>\n",
              "    </tr>\n",
              "    <tr>\n",
              "      <th>3</th>\n",
              "      <td>jharkhand</td>\n",
              "      <td>2021</td>\n",
              "      <td>1</td>\n",
              "      <td>True</td>\n",
              "      <td>15220234</td>\n",
              "      <td>9.528083e+09</td>\n",
              "    </tr>\n",
              "    <tr>\n",
              "      <th>4</th>\n",
              "      <td>jharkhand</td>\n",
              "      <td>2021</td>\n",
              "      <td>2</td>\n",
              "      <td>Kochi</td>\n",
              "      <td>15220234</td>\n",
              "      <td>2.409715e+10</td>\n",
              "    </tr>\n",
              "    <tr>\n",
              "      <th>...</th>\n",
              "      <td>...</td>\n",
              "      <td>...</td>\n",
              "      <td>...</td>\n",
              "      <td>...</td>\n",
              "      <td>...</td>\n",
              "      <td>...</td>\n",
              "    </tr>\n",
              "    <tr>\n",
              "      <th>1435</th>\n",
              "      <td>uttar-pradesh</td>\n",
              "      <td>2020</td>\n",
              "      <td>1</td>\n",
              "      <td>226004</td>\n",
              "      <td>15220234</td>\n",
              "      <td>2.560424e+10</td>\n",
              "    </tr>\n",
              "    <tr>\n",
              "      <th>1436</th>\n",
              "      <td>uttar-pradesh</td>\n",
              "      <td>2020</td>\n",
              "      <td>2</td>\n",
              "      <td>lucknow</td>\n",
              "      <td>15220234</td>\n",
              "      <td>3.089556e+10</td>\n",
              "    </tr>\n",
              "    <tr>\n",
              "      <th>1437</th>\n",
              "      <td>uttar-pradesh</td>\n",
              "      <td>2020</td>\n",
              "      <td>2</td>\n",
              "      <td>226004</td>\n",
              "      <td>15220234</td>\n",
              "      <td>2.322820e+10</td>\n",
              "    </tr>\n",
              "    <tr>\n",
              "      <th>1438</th>\n",
              "      <td>uttar-pradesh</td>\n",
              "      <td>2020</td>\n",
              "      <td>4</td>\n",
              "      <td>gautam buddha nagar</td>\n",
              "      <td>15220234</td>\n",
              "      <td>3.284252e+10</td>\n",
              "    </tr>\n",
              "    <tr>\n",
              "      <th>1439</th>\n",
              "      <td>uttar-pradesh</td>\n",
              "      <td>2020</td>\n",
              "      <td>4</td>\n",
              "      <td>226004</td>\n",
              "      <td>15220234</td>\n",
              "      <td>2.897126e+10</td>\n",
              "    </tr>\n",
              "  </tbody>\n",
              "</table>\n",
              "<p>1440 rows × 6 columns</p>\n",
              "</div>\n",
              "      <button class=\"colab-df-convert\" onclick=\"convertToInteractive('df-5e71e1d2-d625-4afe-9765-353e957f4e7b')\"\n",
              "              title=\"Convert this dataframe to an interactive table.\"\n",
              "              style=\"display:none;\">\n",
              "        \n",
              "  <svg xmlns=\"http://www.w3.org/2000/svg\" height=\"24px\"viewBox=\"0 0 24 24\"\n",
              "       width=\"24px\">\n",
              "    <path d=\"M0 0h24v24H0V0z\" fill=\"none\"/>\n",
              "    <path d=\"M18.56 5.44l.94 2.06.94-2.06 2.06-.94-2.06-.94-.94-2.06-.94 2.06-2.06.94zm-11 1L8.5 8.5l.94-2.06 2.06-.94-2.06-.94L8.5 2.5l-.94 2.06-2.06.94zm10 10l.94 2.06.94-2.06 2.06-.94-2.06-.94-.94-2.06-.94 2.06-2.06.94z\"/><path d=\"M17.41 7.96l-1.37-1.37c-.4-.4-.92-.59-1.43-.59-.52 0-1.04.2-1.43.59L10.3 9.45l-7.72 7.72c-.78.78-.78 2.05 0 2.83L4 21.41c.39.39.9.59 1.41.59.51 0 1.02-.2 1.41-.59l7.78-7.78 2.81-2.81c.8-.78.8-2.07 0-2.86zM5.41 20L4 18.59l7.72-7.72 1.47 1.35L5.41 20z\"/>\n",
              "  </svg>\n",
              "      </button>\n",
              "      \n",
              "  <style>\n",
              "    .colab-df-container {\n",
              "      display:flex;\n",
              "      flex-wrap:wrap;\n",
              "      gap: 12px;\n",
              "    }\n",
              "\n",
              "    .colab-df-convert {\n",
              "      background-color: #E8F0FE;\n",
              "      border: none;\n",
              "      border-radius: 50%;\n",
              "      cursor: pointer;\n",
              "      display: none;\n",
              "      fill: #1967D2;\n",
              "      height: 32px;\n",
              "      padding: 0 0 0 0;\n",
              "      width: 32px;\n",
              "    }\n",
              "\n",
              "    .colab-df-convert:hover {\n",
              "      background-color: #E2EBFA;\n",
              "      box-shadow: 0px 1px 2px rgba(60, 64, 67, 0.3), 0px 1px 3px 1px rgba(60, 64, 67, 0.15);\n",
              "      fill: #174EA6;\n",
              "    }\n",
              "\n",
              "    [theme=dark] .colab-df-convert {\n",
              "      background-color: #3B4455;\n",
              "      fill: #D2E3FC;\n",
              "    }\n",
              "\n",
              "    [theme=dark] .colab-df-convert:hover {\n",
              "      background-color: #434B5C;\n",
              "      box-shadow: 0px 1px 3px 1px rgba(0, 0, 0, 0.15);\n",
              "      filter: drop-shadow(0px 1px 2px rgba(0, 0, 0, 0.3));\n",
              "      fill: #FFFFFF;\n",
              "    }\n",
              "  </style>\n",
              "\n",
              "      <script>\n",
              "        const buttonEl =\n",
              "          document.querySelector('#df-5e71e1d2-d625-4afe-9765-353e957f4e7b button.colab-df-convert');\n",
              "        buttonEl.style.display =\n",
              "          google.colab.kernel.accessAllowed ? 'block' : 'none';\n",
              "\n",
              "        async function convertToInteractive(key) {\n",
              "          const element = document.querySelector('#df-5e71e1d2-d625-4afe-9765-353e957f4e7b');\n",
              "          const dataTable =\n",
              "            await google.colab.kernel.invokeFunction('convertToInteractive',\n",
              "                                                     [key], {});\n",
              "          if (!dataTable) return;\n",
              "\n",
              "          const docLinkHtml = 'Like what you see? Visit the ' +\n",
              "            '<a target=\"_blank\" href=https://colab.research.google.com/notebooks/data_table.ipynb>data table notebook</a>'\n",
              "            + ' to learn more about interactive tables.';\n",
              "          element.innerHTML = '';\n",
              "          dataTable['output_type'] = 'display_data';\n",
              "          await google.colab.output.renderOutput(dataTable, element);\n",
              "          const docLink = document.createElement('div');\n",
              "          docLink.innerHTML = docLinkHtml;\n",
              "          element.appendChild(docLink);\n",
              "        }\n",
              "      </script>\n",
              "    </div>\n",
              "  </div>\n",
              "  "
            ],
            "text/plain": [
              "              State  Year  Quarter               Entity  Transaction_count  \\\n",
              "0         jharkhand  2021        3                Kochi           15220234   \n",
              "1         jharkhand  2021        3                 True           15220234   \n",
              "2         jharkhand  2021        1                Kochi           15220234   \n",
              "3         jharkhand  2021        1                 True           15220234   \n",
              "4         jharkhand  2021        2                Kochi           15220234   \n",
              "...             ...   ...      ...                  ...                ...   \n",
              "1435  uttar-pradesh  2020        1               226004           15220234   \n",
              "1436  uttar-pradesh  2020        2              lucknow           15220234   \n",
              "1437  uttar-pradesh  2020        2               226004           15220234   \n",
              "1438  uttar-pradesh  2020        4  gautam buddha nagar           15220234   \n",
              "1439  uttar-pradesh  2020        4               226004           15220234   \n",
              "\n",
              "      Transaction_amount  \n",
              "0           2.984067e+10  \n",
              "1           1.311751e+10  \n",
              "2           2.051652e+10  \n",
              "3           9.528083e+09  \n",
              "4           2.409715e+10  \n",
              "...                  ...  \n",
              "1435        2.560424e+10  \n",
              "1436        3.089556e+10  \n",
              "1437        2.322820e+10  \n",
              "1438        3.284252e+10  \n",
              "1439        2.897126e+10  \n",
              "\n",
              "[1440 rows x 6 columns]"
            ]
          },
          "execution_count": 82,
          "metadata": {},
          "output_type": "execute_result"
        }
      ],
      "source": [
        "df_top_1"
      ]
    },
    {
      "cell_type": "code",
      "execution_count": 21,
      "metadata": {
        "colab": {
          "base_uri": "https://localhost:8080/"
        },
        "id": "v7EBn5Sxhsbk",
        "outputId": "e70eb1d4-88a1-4f52-e64a-f35138fb4b65"
      },
      "outputs": [
        {
          "output_type": "stream",
          "name": "stdout",
          "text": [
            "Looking in indexes: https://pypi.org/simple, https://us-python.pkg.dev/colab-wheels/public/simple/\n",
            "Collecting streamlit\n",
            "  Downloading streamlit-1.18.1-py2.py3-none-any.whl (9.6 MB)\n",
            "\u001b[2K     \u001b[90m━━━━━━━━━━━━━━━━━━━━━━━━━━━━━━━━━━━━━━━━\u001b[0m \u001b[32m9.6/9.6 MB\u001b[0m \u001b[31m45.9 MB/s\u001b[0m eta \u001b[36m0:00:00\u001b[0m\n",
            "\u001b[?25hCollecting semver\n",
            "  Downloading semver-2.13.0-py2.py3-none-any.whl (12 kB)\n",
            "Requirement already satisfied: altair>=3.2.0 in /usr/local/lib/python3.8/dist-packages (from streamlit) (4.2.2)\n",
            "Requirement already satisfied: typing-extensions>=3.10.0.0 in /usr/local/lib/python3.8/dist-packages (from streamlit) (4.5.0)\n",
            "Requirement already satisfied: tzlocal>=1.1 in /usr/local/lib/python3.8/dist-packages (from streamlit) (1.5.1)\n",
            "Requirement already satisfied: importlib-metadata>=1.4 in /usr/local/lib/python3.8/dist-packages (from streamlit) (6.0.0)\n",
            "Requirement already satisfied: python-dateutil in /usr/local/lib/python3.8/dist-packages (from streamlit) (2.8.2)\n",
            "Collecting gitpython!=3.1.19\n",
            "  Downloading GitPython-3.1.31-py3-none-any.whl (184 kB)\n",
            "\u001b[2K     \u001b[90m━━━━━━━━━━━━━━━━━━━━━━━━━━━━━━━━━━━━━━\u001b[0m \u001b[32m184.3/184.3 KB\u001b[0m \u001b[31m22.1 MB/s\u001b[0m eta \u001b[36m0:00:00\u001b[0m\n",
            "\u001b[?25hRequirement already satisfied: tornado>=6.0.3 in /usr/local/lib/python3.8/dist-packages (from streamlit) (6.2)\n",
            "Requirement already satisfied: toml in /usr/local/lib/python3.8/dist-packages (from streamlit) (0.10.2)\n",
            "Collecting rich>=10.11.0\n",
            "  Downloading rich-13.3.1-py3-none-any.whl (239 kB)\n",
            "\u001b[2K     \u001b[90m━━━━━━━━━━━━━━━━━━━━━━━━━━━━━━━━━━━━━━\u001b[0m \u001b[32m239.0/239.0 KB\u001b[0m \u001b[31m26.4 MB/s\u001b[0m eta \u001b[36m0:00:00\u001b[0m\n",
            "\u001b[?25hRequirement already satisfied: pandas>=0.25 in /usr/local/lib/python3.8/dist-packages (from streamlit) (1.3.5)\n",
            "Requirement already satisfied: pyarrow>=4.0 in /usr/local/lib/python3.8/dist-packages (from streamlit) (9.0.0)\n",
            "Collecting blinker>=1.0.0\n",
            "  Downloading blinker-1.5-py2.py3-none-any.whl (12 kB)\n",
            "Requirement already satisfied: requests>=2.4 in /usr/local/lib/python3.8/dist-packages (from streamlit) (2.25.1)\n",
            "Requirement already satisfied: packaging>=14.1 in /usr/local/lib/python3.8/dist-packages (from streamlit) (23.0)\n",
            "Requirement already satisfied: pillow>=6.2.0 in /usr/local/lib/python3.8/dist-packages (from streamlit) (7.1.2)\n",
            "Requirement already satisfied: click>=7.0 in /usr/local/lib/python3.8/dist-packages (from streamlit) (7.1.2)\n",
            "Collecting pydeck>=0.1.dev5\n",
            "  Downloading pydeck-0.8.0-py2.py3-none-any.whl (4.7 MB)\n",
            "\u001b[2K     \u001b[90m━━━━━━━━━━━━━━━━━━━━━━━━━━━━━━━━━━━━━━━━\u001b[0m \u001b[32m4.7/4.7 MB\u001b[0m \u001b[31m65.4 MB/s\u001b[0m eta \u001b[36m0:00:00\u001b[0m\n",
            "\u001b[?25hRequirement already satisfied: cachetools>=4.0 in /usr/local/lib/python3.8/dist-packages (from streamlit) (5.3.0)\n",
            "Requirement already satisfied: protobuf<4,>=3.12 in /usr/local/lib/python3.8/dist-packages (from streamlit) (3.19.6)\n",
            "Requirement already satisfied: numpy in /usr/local/lib/python3.8/dist-packages (from streamlit) (1.22.4)\n",
            "Collecting validators>=0.2\n",
            "  Downloading validators-0.20.0.tar.gz (30 kB)\n",
            "  Preparing metadata (setup.py) ... \u001b[?25l\u001b[?25hdone\n",
            "Collecting pympler>=0.9\n",
            "  Downloading Pympler-1.0.1-py3-none-any.whl (164 kB)\n",
            "\u001b[2K     \u001b[90m━━━━━━━━━━━━━━━━━━━━━━━━━━━━━━━━━━━━━━\u001b[0m \u001b[32m164.8/164.8 KB\u001b[0m \u001b[31m22.7 MB/s\u001b[0m eta \u001b[36m0:00:00\u001b[0m\n",
            "\u001b[?25hCollecting watchdog\n",
            "  Downloading watchdog-2.2.1-py3-none-manylinux2014_x86_64.whl (78 kB)\n",
            "\u001b[2K     \u001b[90m━━━━━━━━━━━━━━━━━━━━━━━━━━━━━━━━━━━━━━━━\u001b[0m \u001b[32m79.0/79.0 KB\u001b[0m \u001b[31m11.0 MB/s\u001b[0m eta \u001b[36m0:00:00\u001b[0m\n",
            "\u001b[?25hRequirement already satisfied: entrypoints in /usr/local/lib/python3.8/dist-packages (from altair>=3.2.0->streamlit) (0.4)\n",
            "Requirement already satisfied: jinja2 in /usr/local/lib/python3.8/dist-packages (from altair>=3.2.0->streamlit) (2.11.3)\n",
            "Requirement already satisfied: jsonschema>=3.0 in /usr/local/lib/python3.8/dist-packages (from altair>=3.2.0->streamlit) (4.3.3)\n",
            "Requirement already satisfied: toolz in /usr/local/lib/python3.8/dist-packages (from altair>=3.2.0->streamlit) (0.12.0)\n",
            "Collecting gitdb<5,>=4.0.1\n",
            "  Downloading gitdb-4.0.10-py3-none-any.whl (62 kB)\n",
            "\u001b[2K     \u001b[90m━━━━━━━━━━━━━━━━━━━━━━━━━━━━━━━━━━━━━━━━\u001b[0m \u001b[32m62.7/62.7 KB\u001b[0m \u001b[31m9.3 MB/s\u001b[0m eta \u001b[36m0:00:00\u001b[0m\n",
            "\u001b[?25hRequirement already satisfied: zipp>=0.5 in /usr/local/lib/python3.8/dist-packages (from importlib-metadata>=1.4->streamlit) (3.14.0)\n",
            "Requirement already satisfied: pytz>=2017.3 in /usr/local/lib/python3.8/dist-packages (from pandas>=0.25->streamlit) (2022.7.1)\n",
            "Requirement already satisfied: six>=1.5 in /usr/local/lib/python3.8/dist-packages (from python-dateutil->streamlit) (1.15.0)\n",
            "Requirement already satisfied: urllib3<1.27,>=1.21.1 in /usr/local/lib/python3.8/dist-packages (from requests>=2.4->streamlit) (1.24.3)\n",
            "Requirement already satisfied: chardet<5,>=3.0.2 in /usr/local/lib/python3.8/dist-packages (from requests>=2.4->streamlit) (4.0.0)\n",
            "Requirement already satisfied: idna<3,>=2.5 in /usr/local/lib/python3.8/dist-packages (from requests>=2.4->streamlit) (2.10)\n",
            "Requirement already satisfied: certifi>=2017.4.17 in /usr/local/lib/python3.8/dist-packages (from requests>=2.4->streamlit) (2022.12.7)\n",
            "Collecting pygments<3.0.0,>=2.14.0\n",
            "  Downloading Pygments-2.14.0-py3-none-any.whl (1.1 MB)\n",
            "\u001b[2K     \u001b[90m━━━━━━━━━━━━━━━━━━━━━━━━━━━━━━━━━━━━━━━━\u001b[0m \u001b[32m1.1/1.1 MB\u001b[0m \u001b[31m66.5 MB/s\u001b[0m eta \u001b[36m0:00:00\u001b[0m\n",
            "\u001b[?25hCollecting markdown-it-py<3.0.0,>=2.1.0\n",
            "  Downloading markdown_it_py-2.2.0-py3-none-any.whl (84 kB)\n",
            "\u001b[2K     \u001b[90m━━━━━━━━━━━━━━━━━━━━━━━━━━━━━━━━━━━━━━━━\u001b[0m \u001b[32m84.5/84.5 KB\u001b[0m \u001b[31m11.4 MB/s\u001b[0m eta \u001b[36m0:00:00\u001b[0m\n",
            "\u001b[?25hRequirement already satisfied: decorator>=3.4.0 in /usr/local/lib/python3.8/dist-packages (from validators>=0.2->streamlit) (4.4.2)\n",
            "Collecting smmap<6,>=3.0.1\n",
            "  Downloading smmap-5.0.0-py3-none-any.whl (24 kB)\n",
            "Requirement already satisfied: MarkupSafe>=0.23 in /usr/local/lib/python3.8/dist-packages (from jinja2->altair>=3.2.0->streamlit) (2.0.1)\n",
            "Requirement already satisfied: attrs>=17.4.0 in /usr/local/lib/python3.8/dist-packages (from jsonschema>=3.0->altair>=3.2.0->streamlit) (22.2.0)\n",
            "Requirement already satisfied: importlib-resources>=1.4.0 in /usr/local/lib/python3.8/dist-packages (from jsonschema>=3.0->altair>=3.2.0->streamlit) (5.12.0)\n",
            "Requirement already satisfied: pyrsistent!=0.17.0,!=0.17.1,!=0.17.2,>=0.14.0 in /usr/local/lib/python3.8/dist-packages (from jsonschema>=3.0->altair>=3.2.0->streamlit) (0.19.3)\n",
            "Collecting mdurl~=0.1\n",
            "  Downloading mdurl-0.1.2-py3-none-any.whl (10.0 kB)\n",
            "Building wheels for collected packages: validators\n",
            "  Building wheel for validators (setup.py) ... \u001b[?25l\u001b[?25hdone\n",
            "  Created wheel for validators: filename=validators-0.20.0-py3-none-any.whl size=19581 sha256=a460393c1198cb4b98788a93653b05ae7a856e3a401f3abe65d8a4f11705626b\n",
            "  Stored in directory: /root/.cache/pip/wheels/19/09/72/3eb74d236bb48bd0f3c6c3c83e4e0c5bbfcbcad7c6c3539db8\n",
            "Successfully built validators\n",
            "Installing collected packages: watchdog, validators, smmap, semver, pympler, pygments, mdurl, blinker, pydeck, markdown-it-py, gitdb, rich, gitpython, streamlit\n",
            "  Attempting uninstall: pygments\n",
            "    Found existing installation: Pygments 2.6.1\n",
            "    Uninstalling Pygments-2.6.1:\n",
            "      Successfully uninstalled Pygments-2.6.1\n",
            "\u001b[31mERROR: pip's dependency resolver does not currently take into account all the packages that are installed. This behaviour is the source of the following dependency conflicts.\n",
            "ipython 7.9.0 requires jedi>=0.10, which is not installed.\u001b[0m\u001b[31m\n",
            "\u001b[0mSuccessfully installed blinker-1.5 gitdb-4.0.10 gitpython-3.1.31 markdown-it-py-2.2.0 mdurl-0.1.2 pydeck-0.8.0 pygments-2.14.0 pympler-1.0.1 rich-13.3.1 semver-2.13.0 smmap-5.0.0 streamlit-1.18.1 validators-0.20.0 watchdog-2.2.1\n"
          ]
        }
      ],
      "source": [
        "!pip install streamlit"
      ]
    },
    {
      "cell_type": "code",
      "execution_count": 22,
      "metadata": {
        "colab": {
          "base_uri": "https://localhost:8080/"
        },
        "id": "C-2Qd0JslPdR",
        "outputId": "7199ef26-c418-4472-e7b2-5fbda3213299"
      },
      "outputs": [
        {
          "output_type": "stream",
          "name": "stdout",
          "text": [
            "Looking in indexes: https://pypi.org/simple, https://us-python.pkg.dev/colab-wheels/public/simple/\n",
            "Collecting pyngrok\n",
            "  Downloading pyngrok-5.2.1.tar.gz (761 kB)\n",
            "\u001b[2K     \u001b[90m━━━━━━━━━━━━━━━━━━━━━━━━━━━━━━━━━━━━━━\u001b[0m \u001b[32m761.3/761.3 KB\u001b[0m \u001b[31m15.8 MB/s\u001b[0m eta \u001b[36m0:00:00\u001b[0m\n",
            "\u001b[?25h  Preparing metadata (setup.py) ... \u001b[?25l\u001b[?25hdone\n",
            "Requirement already satisfied: PyYAML in /usr/local/lib/python3.8/dist-packages (from pyngrok) (6.0)\n",
            "Building wheels for collected packages: pyngrok\n",
            "  Building wheel for pyngrok (setup.py) ... \u001b[?25l\u001b[?25hdone\n",
            "  Created wheel for pyngrok: filename=pyngrok-5.2.1-py3-none-any.whl size=19792 sha256=c6bee9cd591148b1e8b1aaa89fd66f7b2acc23b246bc578f1d1d871f608af729\n",
            "  Stored in directory: /root/.cache/pip/wheels/5d/f2/70/526da675d32f17577ec47ac4c663084efe39d47c826b6c3bb1\n",
            "Successfully built pyngrok\n",
            "Installing collected packages: pyngrok\n",
            "Successfully installed pyngrok-5.2.1\n"
          ]
        }
      ],
      "source": [
        "!pip install pyngrok"
      ]
    },
    {
      "cell_type": "code",
      "execution_count": 23,
      "metadata": {
        "id": "VSO3uGUqlXgb"
      },
      "outputs": [],
      "source": [
        "from pyngrok import ngrok"
      ]
    },
    {
      "cell_type": "code",
      "execution_count": 24,
      "metadata": {
        "colab": {
          "base_uri": "https://localhost:8080/"
        },
        "id": "Rfy7u1C7lI9m",
        "outputId": "f4b820a4-b3dc-4ff3-f84c-1947c953311b"
      },
      "outputs": [
        {
          "output_type": "stream",
          "name": "stdout",
          "text": []
        }
      ],
      "source": [
        "ngrok.set_auth_token('2L6Kz7Hvawi3QB7akHGUu8CRsfi_5JPuFqERA67quEKGFuvaU')"
      ]
    },
    {
      "cell_type": "code",
      "execution_count": 48,
      "metadata": {
        "colab": {
          "base_uri": "https://localhost:8080/"
        },
        "id": "GMq3R8Cdhtod",
        "outputId": "4d2d6c68-25dd-40ca-b591-d305383baf14"
      },
      "outputs": [
        {
          "output_type": "stream",
          "name": "stdout",
          "text": [
            "Overwriting app.py\n"
          ]
        }
      ],
      "source": [
        "%%writefile app.py\n",
        "\n",
        "# install packages\n",
        "\n",
        "import streamlit as st \n",
        "import numpy as np \n",
        "import pandas as pd\n",
        "import plotly.express as px\n",
        "import sqlite3\n",
        "\n",
        "#-------Page Configuration--------\n",
        "\n",
        "st.set_page_config(page_title=\"Phonepe Pulse\",\n",
        "                    page_icon=\":bar_chart:\",\n",
        "                    layout=\"wide\"\n",
        "                    )\n",
        "\n",
        "st.title(\"Phonepe Pulse Dashboard\")\n",
        "conn = sqlite3.connect('phonepe.db')\n",
        "cursor = conn.cursor()\n",
        "\n",
        "#making database connection\n",
        "\n",
        "sql1='''select * from dataTransaction as dt'''\n",
        "sql2='''select * from datausers as du'''\n",
        "sql3='''select * from mapTransaction as mt'''\n",
        "sql4='''select * from mapUsers as mu'''\n",
        "sql5='''select * from topTransaction as tt'''\n",
        "sql6='''select * from topusers as tu'''\n",
        "\n",
        "df_aggre_1=pd.read_sql(sql1,conn)\n",
        "df_aggre_2=pd.read_sql(sql2,conn)\n",
        "df_map_1=pd.read_sql(sql3,conn)\n",
        "df_map_2=pd.read_sql(sql4,conn)\n",
        "df_top_1=pd.read_sql(sql5,conn)\n",
        "df_top_2=pd.read_sql(sql6,conn)\n",
        "\n",
        "\n",
        "def main():\n",
        "  st.sidebar.header(\"Filters\")\n",
        "  menu=[\"Home\",\"Transaction type\",\"Brand\",\"District wise\"]\n",
        "  choice= st.sidebar.selectbox(\"Select\",menu)\n",
        "\n",
        "\n",
        "#-----------------Home page aggregated data--------------\n",
        "  \n",
        "  if choice==\"Home\":\n",
        "    st.subheader(\"Aggregated Data\")\n",
        "\n",
        "    year= st.sidebar.multiselect(\"Select year:\",\n",
        "                              options=df_aggre_1[\"Year\"].unique()\n",
        "                              \n",
        "                              )\n",
        "\n",
        "    state= st.sidebar.multiselect(\"Select state:\",\n",
        "                              options=df_aggre_1[\"State\"].unique()\n",
        "                             \n",
        "                              )\n",
        "\n",
        "    quarter= st.sidebar.multiselect(\"Select quarter:\",\n",
        "                              options=df_aggre_1[\"Quarter\"].unique()\n",
        "                              \n",
        "                              )\n",
        "\n",
        "    st.subheader(\":iphone: Aggregated Transactions Details\")\n",
        "    st.markdown(\"##\")\n",
        "\n",
        "\n",
        "    if year and state and quarter:\n",
        "      df_selection_1 = df_aggre_1.query(\"Year==@year & State==@state & Quarter==@quarter\")\n",
        "      df_selection_2 = df_aggre_2.query(\"Year==@year & State==@state & Quarter==@quarter\")\n",
        "      df_selection_3 = df_map_1.query(\"Year==@year & State==@state & Quarter==@quarter\")\n",
        "      df_selection_4 = df_map_2.query(\"Year==@year & State==@state & Quarter==@quarter\")\n",
        "\n",
        "    elif year:\n",
        "      df_selection_1 = df_aggre_1.query(\"Year==@year\")\n",
        "      df_selection_2 = df_aggre_2.query(\"Year==@year\")\n",
        "      df_selection_3 = df_map_1.query(\"Year==@year\")\n",
        "      df_selection_4 = df_map_2.query(\"Year==@year\")\n",
        "\n",
        "    elif state:\n",
        "      df_selection_1 = df_aggre_1.query(\"State==@state\")\n",
        "      df_selection_2 = df_aggre_2.query(\"State==@state\")\n",
        "      df_selection_3 = df_map_1.query(\"State==@state\")\n",
        "      df_selection_4 = df_map_2.query(\"State==@state\")\n",
        "\n",
        "    elif quarter:\n",
        "      df_selection_1 = df_aggre_1.query(\"Quarter==@quarter\")\n",
        "      df_selection_2 = df_aggre_2.query(\"Quarter==@quarter\")\n",
        "      df_selection_3 = df_map_1.query(\"Quarter==@quarter\")\n",
        "      df_selection_4 = df_map_2.query(\"Quarter==@quarter\")\n",
        "\n",
        "    elif year and state:\n",
        "      df_selection_1 = df_aggre_1.query(\"Year==@year & State==@state\")\n",
        "      df_selection_2 = df_aggre_2.query(\"Year==@year & State==@state\")\n",
        "      df_selection_3 = df_map_1.query(\"Year==@year & State==@state\")\n",
        "      df_selection_4 = df_map_2.query(\"Year==@year & State==@state\")\n",
        "\n",
        "    elif year and quarter:\n",
        "      df_selection_1 = df_aggre_1.query(\"Year==@year & Quarter==@quarter\")\n",
        "      df_selection_2 = df_aggre_2.query(\"Year==@year & Quarter==@quarter\")\n",
        "      df_selection_3 = df_map_1.query(\"Year==@year & Quarter==@quarter\")\n",
        "      df_selection_4 = df_map_2.query(\"Year==@year & Quarter==@quarter\")\n",
        "\n",
        "    elif state and quarter:\n",
        "      df_selection_1 = df_aggre_1.query(\"State==@state & Quarter==@quarter\")\n",
        "      df_selection_2 = df_aggre_2.query(\"State==@state & Quarter==@quarter\")\n",
        "      df_selection_3 = df_map_1.query(\"State==@state & Quarter==@quarter\")\n",
        "      df_selection_4 = df_map_2.query(\"State==@state & Quarter==@quarter\")\n",
        "\n",
        "    else:\n",
        "      df_selection_1 = df_aggre_1\n",
        "      df_selection_2 = df_aggre_2\n",
        "      df_selection_3 = df_map_1\n",
        "      df_selection_4 = df_map_2\n",
        "\n",
        "    tot_count= int(df_selection_1[\"Transaction_count\"].sum())\n",
        "    avg_amount=round(df_selection_1[\"Transaction_amount\"].mean(),2)\n",
        "    reg_users= int(df_selection_4[\"RegisteredUsers\"].sum())\n",
        "\n",
        "    left_column,middle_column, right_column = st.columns(3)\n",
        "\n",
        "    with left_column:\n",
        "        st.write(\"Total Registered Users\")\n",
        "        st.write(reg_users)\n",
        "\n",
        "    with middle_column:\n",
        "        st.write(\"Total Transaction count\")\n",
        "        st.write(tot_count)\n",
        "\n",
        "    with right_column:\n",
        "        st.write(\"Avg Transaction amount\")\n",
        "        st.write(avg_amount)\n",
        "\n",
        "    st.markdown(\"---\")\n",
        "\n",
        "\n",
        "    df_tran_type=(df_selection_1.groupby(by=[\"Transaction_type\"]).sum()[['Transaction_count','Transaction_amount']])\n",
        "\n",
        "\n",
        "#-----------plotting figures of home page--------\n",
        "\n",
        "    fig_tran_type=px.bar(\n",
        "                      df_tran_type,\n",
        "                      x=\"Transaction_count\",\n",
        "                      y=df_tran_type.index,\n",
        "                      orientation=\"h\",\n",
        "                      hover_data=[\"Transaction_amount\"],\n",
        "                      title=\"Total count of each Transaction type\",\n",
        "                      template=\"plotly_white\",\n",
        "\n",
        "                      width=500,\n",
        "                      height=400\n",
        "\n",
        "\n",
        "                      )\n",
        "    df_brand=(df_selection_2.groupby(by=[\"Brand\"]).sum()[['Count','Percent']])\n",
        "    fig_brand=px.bar(\n",
        "                      df_brand,\n",
        "                      y=\"Count\",\n",
        "                      x=df_brand.index,\n",
        "                      hover_data=[\"Percent\"],\n",
        "                      color=\"Count\",\n",
        "                      title=\"Total count to Device Brand\",\n",
        "                      template=\"plotly_white\",\n",
        "\n",
        "                      width=500,\n",
        "                      height=400\n",
        "\n",
        "                    )\n",
        "    c1,c2=st.columns(2)\n",
        "\n",
        "    c1.plotly_chart(fig_tran_type, use_container_width=True)\n",
        "    c2.plotly_chart(fig_brand, use_container_width=True)\n",
        "\n",
        "\n",
        "    #----------------Transaction type page---------\n",
        "\n",
        "\n",
        "  elif choice==\"Transaction type\":\n",
        "\n",
        "    tran_type= st.sidebar.selectbox(\"Select Transaction type:\",\n",
        "                              options=df_aggre_1[\"Transaction_type\"].unique()\n",
        "                              \n",
        "                              )\n",
        "\n",
        "    year= st.sidebar.selectbox(\"Select year:\",\n",
        "                              options=df_aggre_1[\"Year\"].unique()\n",
        "                              \n",
        "                              )\n",
        "\n",
        "    state= st.sidebar.selectbox(\"Select state:\",\n",
        "                              options=df_aggre_1[\"State\"].unique()\n",
        "                             \n",
        "                              )\n",
        "\n",
        "    quarter= st.sidebar.selectbox(\"Select quarter:\",\n",
        "                              options=df_aggre_1[\"Quarter\"].unique()\n",
        "                              \n",
        "                              )\n",
        "\n",
        "    if tran_type:\n",
        "      st.subheader(tran_type)\n",
        "\n",
        "      df_transaction = df_aggre_1.query(\"Transaction_type==@tran_type\")\n",
        "      df_year= (df_transaction.groupby(by=[\"Year\"]).sum()[[\"Transaction_count\",\"Transaction_amount\"]])\n",
        "\n",
        "      fig_year_tran=px.bar(df_year,\n",
        "                       x=df_year.index,\n",
        "                       y=\"Transaction_count\",\n",
        "                       hover_data=[\"Transaction_amount\"],\n",
        "                       title=\"Transaction count per year\",\n",
        "                       )\n",
        "\n",
        "  \n",
        "      df_state= (df_transaction.groupby(by=[\"State\"]).sum()[[\"Transaction_count\",\"Transaction_amount\"]])\n",
        "      fig_state_tran=px.bar(df_state,\n",
        "                       x=df_state.index,\n",
        "                       y=\"Transaction_count\",\n",
        "                       hover_data=[\"Transaction_amount\"],\n",
        "                       title=\"Transaction count per state\",\n",
        "                       )\n",
        "\n",
        "      df_quarter= (df_transaction.groupby(by=[\"Quarter\"]).sum()[[\"Transaction_count\",\"Transaction_amount\"]])\n",
        "      fig_quarter_tran=px.bar(df_quarter,\n",
        "                       x=df_quarter.index,\n",
        "                       y=\"Transaction_count\",\n",
        "                       hover_data=[\"Transaction_amount\"],\n",
        "                       title=\"Transaction count per quarter\",\n",
        "                       )\n",
        "\n",
        "      col1,col2,col3= st.columns(3)\n",
        "      col1.plotly_chart(fig_year_tran,use_container_width=True)\n",
        "      col2.plotly_chart(fig_state_tran,use_container_width=True)\n",
        "      col3.plotly_chart(fig_quarter_tran,use_container_width=True)\n",
        "\n",
        "      st.markdown(\"-----\")\n",
        "\n",
        "      if year and state and quarter:\n",
        "        df_selection_1 = df_aggre_1.query(\"Year==@year & State==@state & Quarter==@quarter & Transaction_type==@tran_type\")\n",
        "        tot_count= int(df_selection_1[\"Transaction_count\"].sum())\n",
        "        avg_amount=round(df_selection_1[\"Transaction_amount\"].mean(),2)\n",
        "\n",
        "        c1,c2=st.columns(2)\n",
        "        with c1:\n",
        "          st.subheader(\"Total count\")\n",
        "          st.subheader(tot_count)\n",
        "\n",
        "        with c2:\n",
        "          st.subheader(\"Average Amount\")\n",
        "          st.subheader(avg_amount)\n",
        "\n",
        "\n",
        "  #--------------Brand wise details---------------\n",
        "  \n",
        "  elif choice==\"Brand\":\n",
        "    brand= st.sidebar.selectbox(\"Select Phone brand:\",\n",
        "                              options=df_aggre_2[\"Brand\"].unique()\n",
        "\n",
        "                              )\n",
        "\n",
        "    year= st.sidebar.selectbox(\"Select year:\",\n",
        "                              options=df_aggre_1[\"Year\"].unique()\n",
        "                              \n",
        "                              )\n",
        "\n",
        "    state= st.sidebar.selectbox(\"Select state:\",\n",
        "                              options=df_aggre_1[\"State\"].unique()\n",
        "                             \n",
        "                              )\n",
        "\n",
        "    quarter= st.sidebar.selectbox(\"Select quarter:\",\n",
        "                              options=df_aggre_1[\"Quarter\"].unique()\n",
        "                              \n",
        "                              )\n",
        "\n",
        "    if brand:\n",
        "      st.subheader(brand)\n",
        "      \n",
        "      df_brand = df_aggre_2.query(\"Brand==@brand & State==@state & Quarter==@quarter\")\n",
        "      df_brand_1 = df_aggre_2.query(\"Brand==@brand & Year==@year & Quarter==@quarter\")\n",
        "      df_brand_2 = df_aggre_2.query(\"Brand==@brand & Year==@year & State==@state\")\n",
        "\n",
        "      tot_count= int(df_brand_2[\"Count\"].sum())      \n",
        "\n",
        "      st.write(f\"Total transaction in {year} for {state} is :red{tot_count}\")\n",
        "      \n",
        "      df_year= (df_brand.groupby(by=[\"Year\"]).sum()[[\"Count\",\"Percent\"]])\n",
        "\n",
        "      fig_year_brand=px.bar(df_year,\n",
        "                       x=df_year.index,\n",
        "                       y=\"Count\",\n",
        "                       hover_data=[\"Percent\"],\n",
        "                       title=\"Transaction count per year\",\n",
        "                       )\n",
        "\n",
        "  \n",
        "      df_state= (df_brand_1.groupby(by=[\"State\"]).sum()[[\"Count\",\"Percent\"]])\n",
        "      fig_state_brand=px.pie(df_state,\n",
        "                       names=df_state.index,\n",
        "                       values=\"Count\",\n",
        "                       hole=0.4,\n",
        "                       hover_data=[\"Percent\"],\n",
        "                       title=\"Transaction count per state\",\n",
        "                       )\n",
        "      fig_state_brand.update_traces(textposition=\"inside\")\n",
        "      #fig_state_brand.update_layout(uniformtext_minsize=12, uniformtext_mode='hide')\n",
        "     \n",
        "      df_quarter= (df_brand_2.groupby(by=[\"Quarter\"]).sum()[[\"Count\",\"Percent\"]])\n",
        "      fig_quarter_brand=px.bar(df_quarter,\n",
        "                       x=df_quarter.index,\n",
        "                       y=\"Count\",\n",
        "                       hover_data=[\"Percent\"],\n",
        "                       color=\"Percent\",\n",
        "                       title=\"Transaction count per quarter\",\n",
        "                       )\n",
        "\n",
        "      col1,col2,col3= st.columns(3)\n",
        "      col1.plotly_chart(fig_year_brand,use_container_width=True)\n",
        "      col2.plotly_chart(fig_state_brand,use_container_width=True)\n",
        "    \n",
        "      col3.plotly_chart(fig_quarter_brand,use_container_width=True)\n",
        "\n",
        "      st.markdown(\"-----\")\n",
        "                               \n",
        "\n",
        "\n",
        "  #--------------District wise details---------\n",
        "  else:          \n",
        "    state=st.sidebar.selectbox(\"Select state:\",\n",
        "                                options=df_aggre_1[\"State\"].unique()\n",
        "                                \n",
        "                                ) \n",
        "\n",
        "    df_selection_3 = df_map_1.query(\"State==@state\")                   \n",
        "    district=st.sidebar.selectbox(\"Select district:\",\n",
        "                              options=df_selection_3[\"District\"].unique()\n",
        "                              \n",
        "                              )\n",
        "    year= st.sidebar.selectbox(\"Select year:\",\n",
        "                              options=df_aggre_1[\"Year\"].unique()\n",
        "                              \n",
        "                              )\n",
        "    quarter= st.sidebar.selectbox(\"Select quarter:\",\n",
        "                              options=df_aggre_1[\"Quarter\"].unique()\n",
        "                              \n",
        "                              )\n",
        "\n",
        "    \n",
        "\n",
        "    if district:\n",
        "      st.subheader(district)\n",
        "      df_user = df_map_2.query(\"District==@district\")\n",
        "      df_reg_user= (df_user.groupby(by=[\"Year\"]).sum()[[\"RegisteredUsers\",\"AppOpen\"]])\n",
        "\n",
        "      fig_reg_year=px.bar(df_reg_user,\n",
        "                      x=df_reg_user.index,\n",
        "                      y=\"RegisteredUsers\",\n",
        "                      template=\"plotly_white\",\n",
        "                      title=\"Registered Users per year\"\n",
        "                      )\n",
        "\n",
        "      fig_app_year=px.bar(df_reg_user,\n",
        "                      x=df_reg_user.index,\n",
        "                      y=\"AppOpen\",\n",
        "                      template=\"plotly_white\",\n",
        "                      title=\"App Open per year\"\n",
        "                      )\n",
        "\n",
        "      cola,colb=st.columns(2)\n",
        "      cola.plotly_chart(fig_reg_year,use_container_width=True)\n",
        "      colb.plotly_chart(fig_app_year,use_container_width=True)\n",
        "      \n",
        "      st.markdown(\"----\")\n",
        "      st.write(f\"Total number of Transactions and Amount of  {district.upper()}  is given\")\n",
        "      st.write(\"Use filter for specific data\")\n",
        "\n",
        "      df_map_1a=df_map_1.query(\"Year==@year & State==@state & Quarter==@quarter & District==@district\")\n",
        "      dist_tran_count= int(df_map_1a[\"Transaction_count\"].sum())\n",
        "      dist_avg_amount=round(df_map_1a[\"Transaction_amount\"].mean(),2)\n",
        "\n",
        "      c1,c2=st.columns(2)\n",
        "      with c1:\n",
        "        st.subheader(\"Total count\")\n",
        "        st.subheader(dist_tran_count)\n",
        "      with c2:\n",
        "        st.subheader(\"Average Amount\")\n",
        "        st.subheader(dist_avg_amount)\n",
        "\n",
        "\n",
        "  st.sidebar.markdown(\"---\")\n",
        "\n",
        "if __name__=='__main__':\n",
        "  main()\n",
        "\n",
        "\n"
      ]
    },
    {
      "cell_type": "code",
      "execution_count": 26,
      "metadata": {
        "colab": {
          "base_uri": "https://localhost:8080/"
        },
        "id": "UdyrcjA6lohb",
        "outputId": "9954f533-b138-407e-86af-5f0db7a818bd"
      },
      "outputs": [
        {
          "output_type": "stream",
          "name": "stdout",
          "text": [
            "nohup: appending output to 'nohup.out'\n",
            "NgrokTunnel: \"http://6d90-34-125-95-177.ngrok.io\" -> \"http://localhost:80\"\n"
          ]
        }
      ],
      "source": [
        "!nohup streamlit run app.py --server.port 80 &\n",
        "url = ngrok.connect(port = '80')\n",
        "print(url)"
      ]
    },
    {
      "cell_type": "code",
      "execution_count": null,
      "metadata": {
        "id": "1qA4gW9aUeEi"
      },
      "outputs": [],
      "source": [
        "from geopy.geocoders import Nominatim\n",
        "geo_loc = Nominatim(user_agent=\"geoapiExercises\")\n",
        "pincode = \"682507\"\n",
        "place = geo_loc.geocode(pincode)\n",
        "x=place.address"
      ]
    },
    {
      "cell_type": "code",
      "execution_count": null,
      "metadata": {
        "id": "1Yoji3vjTtnd"
      },
      "outputs": [],
      "source": [
        "l=list(map(str,x.split(',')))"
      ]
    },
    {
      "cell_type": "code",
      "execution_count": null,
      "metadata": {
        "colab": {
          "base_uri": "https://localhost:8080/",
          "height": 36
        },
        "id": "ms23161AUWyK",
        "outputId": "8e9b7e24-dd70-4d07-dd49-438f9f6afd40"
      },
      "outputs": [
        {
          "data": {
            "application/vnd.google.colaboratory.intrinsic+json": {
              "type": "string"
            },
            "text/plain": [
              "'Kochi'"
            ]
          },
          "execution_count": 54,
          "metadata": {},
          "output_type": "execute_result"
        }
      ],
      "source": [
        "l[0]"
      ]
    },
    {
      "cell_type": "code",
      "execution_count": null,
      "metadata": {
        "id": "dPCjRXPgUxxH"
      },
      "outputs": [],
      "source": [
        "l=[]\n",
        "l=df_top_1[\"Entity\"].unique()\n",
        "for z in l:\n",
        "  if str(z).isdigit():\n",
        "    try:\n",
        "      pincode = z\n",
        "      place = geo_loc.geocode(pincode)\n",
        "      x=place.address\n",
        "      k=list(map(str,x.split(',')))\n",
        "      df_top_1.loc[df_top_1['Entity']==z,['Entity']]=k[0]\n",
        "    except:\n",
        "      pass\n",
        "\n"
      ]
    },
    {
      "cell_type": "code",
      "execution_count": null,
      "metadata": {
        "id": "8a2ZTi-9jr8W"
      },
      "outputs": [],
      "source": [
        "df_to"
      ]
    },
    {
      "cell_type": "code",
      "execution_count": null,
      "metadata": {
        "colab": {
          "base_uri": "https://localhost:8080/"
        },
        "id": "ieuBDHMXVyWv",
        "outputId": "08b5563b-21d7-432d-9e1c-d1b29e2944b2"
      },
      "outputs": [
        {
          "data": {
            "text/plain": [
              "array(['ranchi', True, 'dhanbad', '834001', 'chennai', '600003',\n",
              "       'chengalpattu', '600119', 'kolkata', '700009', 'birbhum', '731101',\n",
              "       '700039', 'dimapur', '797112', 'ahmadabad', '380001', '380018',\n",
              "       'hyderabad', '500001', '500012', '500034', 'bengaluru urban',\n",
              "       '560001', '560027', 'east', '737101', '737132', 'north goa',\n",
              "       '403001', '403722', '403401', '403516', 'central delhi', '110006',\n",
              "       'new delhi', '110011', 'gurugram', '122006', '122001',\n",
              "       'leh ladakh', '194101', '194104', 'khordha', '751001', '756001',\n",
              "       '751002', 'lakshadweep', '682555', '682551', 'pune', '411004',\n",
              "       '400008', '411006', '411033', 'dadra and nagar haveli', '396230',\n",
              "       'ludhiana', '141008', '143001', '141003', '141007', 'puducherry',\n",
              "       '605002', '605001', '605007', 'west tripura', '799001',\n",
              "       'papum pare', '791113', '791110', 'imphal west', '795004',\n",
              "       'imphal east', '795008', 'south andaman', '744101', '744103',\n",
              "       '744104', 'shimla', '171003', 'solan', '173205', '171001',\n",
              "       'bhopal', '462008', '462001', 'chhindwara', '480001', 'indore',\n",
              "       '452005', 'aizawl', '796009', '796005', '796008', 'ernakulam',\n",
              "       '682016', '682035', '682036', '682507', 'raipur', '492009',\n",
              "       '495660', '490025', 'durg', 'chandigarh', '160008', '160017',\n",
              "       'jammu', '180005', 'poonch', '185102', 'srinagar', '190002',\n",
              "       '180001', 'east khasi hills', '793001', '793002', '793004',\n",
              "       'dehradun', '248001', 'udham singh nagar', '263153', 'jaipur',\n",
              "       '302016', '302001', '302015', '302012', 'patna', '800001',\n",
              "       '800006', '800015', 'visakhapatnam', '524002', '518502', '517501',\n",
              "       '530001', '530026', 'kamrup metropolitan', '781009', '781010',\n",
              "       '782127', '782123', '781013', 'lucknow', '226004', 'varanasi',\n",
              "       '221001', 'gautam buddha nagar', '201301', '226020'], dtype=object)"
            ]
          },
          "execution_count": 68,
          "metadata": {},
          "output_type": "execute_result"
        }
      ],
      "source": [
        "l"
      ]
    },
    {
      "cell_type": "code",
      "execution_count": null,
      "metadata": {
        "id": "-m-cJIERVyzc"
      },
      "outputs": [],
      "source": [
        "px.bar( )"
      ]
    },
    {
      "cell_type": "code",
      "execution_count": null,
      "metadata": {
        "id": "inRL_70ba-tT"
      },
      "outputs": [],
      "source": []
    }
  ],
  "metadata": {
    "colab": {
      "provenance": [],
      "authorship_tag": "ABX9TyN1fgpda8LvG1bC8oMLoXdM",
      "include_colab_link": true
    },
    "kernelspec": {
      "display_name": "Python 3",
      "name": "python3"
    },
    "language_info": {
      "name": "python"
    }
  },
  "nbformat": 4,
  "nbformat_minor": 0
}