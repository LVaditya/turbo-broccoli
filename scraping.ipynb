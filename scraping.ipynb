{
  "nbformat": 4,
  "nbformat_minor": 0,
  "metadata": {
    "colab": {
      "provenance": [],
      "authorship_tag": "ABX9TyM2IseYWuv7u3BitVWUdE9k",
      "include_colab_link": true
    },
    "kernelspec": {
      "name": "python3",
      "display_name": "Python 3"
    },
    "language_info": {
      "name": "python"
    }
  },
  "cells": [
    {
      "cell_type": "markdown",
      "metadata": {
        "id": "view-in-github",
        "colab_type": "text"
      },
      "source": [
        "<a href=\"https://colab.research.google.com/github/LVaditya/turbo-broccoli/blob/main/scraping.ipynb\" target=\"_parent\"><img src=\"https://colab.research.google.com/assets/colab-badge.svg\" alt=\"Open In Colab\"/></a>"
      ]
    },
    {
      "cell_type": "code",
      "source": [
        "!pip install snscrape"
      ],
      "metadata": {
        "id": "kkyh0TMKF8KC"
      },
      "execution_count": null,
      "outputs": []
    },
    {
      "cell_type": "code",
      "execution_count": null,
      "metadata": {
        "id": "2ksP7rEaFkJp"
      },
      "outputs": [],
      "source": [
        "!pip install streamlit"
      ]
    },
    {
      "cell_type": "code",
      "source": [
        "!pip install pyngrok"
      ],
      "metadata": {
        "id": "5Q_SbzSSp7OR"
      },
      "execution_count": null,
      "outputs": []
    },
    {
      "cell_type": "code",
      "source": [
        "from pyngrok import ngrok"
      ],
      "metadata": {
        "id": "tVs_7fxA2j4D"
      },
      "execution_count": null,
      "outputs": []
    },
    {
      "cell_type": "code",
      "source": [
        "%%writefile app.py\n",
        "import streamlit as st\n",
        "import snscrape.modules.twitter as sntwitter\n",
        "import datetime\n",
        "from datetime import date \n",
        "import pandas as pd\n",
        "from tqdm import tqdm\n",
        "from pymongo import MongoClient\n",
        "\n",
        "# Streamlit part to create Interface to take inputs\n",
        "st.title(\"Twitter Data\")\n",
        "st.subheader(\"Enter the keyword and number of tweets you want\")\n",
        "\n",
        "with st.form(key='Twitter_form'):\n",
        "  \n",
        "  keyword= st.text_input('Keyword')\n",
        "  from_date=st.date_input(\"From\")\n",
        "  till_date=st.date_input('Till')\n",
        "  query=f'{keyword} since:{from_date} until:{till_date}'\n",
        "  st.write(query)\n",
        "  number= st.slider('no. of tweets',min_value=0, max_value=1000, step=50)\n",
        "  submit= st.form_submit_button(label='search')\n",
        "\n",
        "if submit:\n",
        "  tweet_data=[]\n",
        "\n",
        "  for i, tweets in enumerate(sntwitter.TwitterSearchScraper(query).get_items()):#scraping twitter data and appending it to the list\n",
        "\n",
        "    if i > number:\n",
        "      break\n",
        "    tweet_data.append([tweets.date, tweets.id, tweets.content, tweets.username, tweets.url, tweets.likeCount, tweets.replyCount, tweets.retweetCount, tweets.lang])\n",
        "\n",
        "  df= pd.DataFrame(tweet_data,columns= ['Date','Id', 'Content', 'Username', 'url', 'LikeCount', 'ReplyCount', 'RetweetCount', 'Language'])\n",
        "\n",
        "  st.write(df)  #created a dataframe df with details and displayed \n",
        "  \n",
        "  df_csv= df.to_csv(f'{keyword} .csv', index=False, encoding= 'utf-8')  #keeping a csv format of df\n",
        "  df_json= df.to_json(f'{keyword} .json', orient='records')             #keeping a json format of df\n",
        "\n",
        "  if st.button(\"upload\"):      #to upload data to MongoDB\n",
        "    client= MongoClient('mongodb+srv://adityalv:<aditya123>@cluster0.jzsqwj1.mongodb.net/?retryWrites=true&w=majority')\n",
        "    db = client.twitter_scrape    #creating database twitter_scrape\n",
        "    collection=db[keyword]        #creating collection of keyword as name\n",
        "\n",
        "    df.reset_index(inplace=True)\n",
        "    data_dict = df.to_dict(\"records\")\n",
        "    collection.insert_many(data_dict)\n",
        "\n",
        "  st.download_button(\"download CSV\",df.to_csv(),mime='text/csv')\n",
        "  st.download_button(\"download JSON\",df.to_json(),mime='application/json1')\n"
      ],
      "metadata": {
        "colab": {
          "base_uri": "https://localhost:8080/"
        },
        "id": "7gALRxehqNVz",
        "outputId": "0b70ffc3-3885-4738-ac54-376cb94b9368"
      },
      "execution_count": null,
      "outputs": [
        {
          "output_type": "stream",
          "name": "stdout",
          "text": [
            "Overwriting app.py\n"
          ]
        }
      ]
    },
    {
      "cell_type": "code",
      "source": [
        "ngrok.set_auth_token('2L6Kz7Hvawi3QB7akHGUu8CRsfi_5JPuFqERA67quEKGFuvaU')"
      ],
      "metadata": {
        "id": "M4vVrI-L5iE8",
        "colab": {
          "base_uri": "https://localhost:8080/"
        },
        "outputId": "eebbe73d-8b9a-47ff-b3e5-7166af76eaa1"
      },
      "execution_count": null,
      "outputs": [
        {
          "output_type": "stream",
          "name": "stdout",
          "text": []
        }
      ]
    },
    {
      "cell_type": "code",
      "source": [
        "!nohup streamlit run app.py --server.port 80 &         #streamlit run using ngrok\n",
        "url = ngrok.connect(port = '80')\n",
        "print(url)"
      ],
      "metadata": {
        "colab": {
          "base_uri": "https://localhost:8080/"
        },
        "id": "WF1zbXOV5nLM",
        "outputId": "8e72f6e7-7aa3-433a-a706-bd3022b5fdbb"
      },
      "execution_count": null,
      "outputs": [
        {
          "output_type": "stream",
          "name": "stdout",
          "text": [
            "nohup: appending output to 'nohup.out'\n",
            "NgrokTunnel: \"http://9baf-35-229-63-166.ngrok.io\" -> \"http://localhost:80\"\n"
          ]
        }
      ]
    },
    {
      "cell_type": "code",
      "source": [
        "!npm install -g localtunnel"
      ],
      "metadata": {
        "colab": {
          "base_uri": "https://localhost:8080/"
        },
        "id": "fy88kRmJx6Cj",
        "outputId": "e10be451-24c5-4d45-cbfe-cc5807650425"
      },
      "execution_count": null,
      "outputs": [
        {
          "output_type": "stream",
          "name": "stdout",
          "text": [
            "\u001b[K\u001b[?25h/tools/node/bin/lt -> /tools/node/lib/node_modules/localtunnel/bin/lt.js\n",
            "+ localtunnel@2.0.2\n",
            "added 22 packages from 22 contributors in 1.711s\n"
          ]
        }
      ]
    },
    {
      "cell_type": "code",
      "source": [
        "!streamlit run app.py & npx localtunnel --port 8501     #streamlit run using local tunnel"
      ],
      "metadata": {
        "id": "gwQl0ZW8wM5C"
      },
      "execution_count": null,
      "outputs": []
    },
    {
      "cell_type": "code",
      "source": [],
      "metadata": {
        "id": "N056KqSHaojr"
      },
      "execution_count": null,
      "outputs": []
    }
  ]
}